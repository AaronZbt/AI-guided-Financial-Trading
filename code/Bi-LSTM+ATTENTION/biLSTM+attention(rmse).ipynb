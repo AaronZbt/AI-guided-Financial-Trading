{
  "nbformat": 4,
  "nbformat_minor": 0,
  "metadata": {
    "colab": {
      "name": "biLSTM+attention(rmse).ipynb",
      "provenance": [],
      "collapsed_sections": []
    },
    "kernelspec": {
      "name": "python3",
      "display_name": "Python 3"
    }
  },
  "cells": [
    {
      "cell_type": "code",
      "metadata": {
        "id": "sVrnCd-XwDvM"
      },
      "source": [
        "# # Code to download file into Colaboratory:\n",
        "# !pip install -U -q PyDrive\n",
        "# from pydrive.auth import GoogleAuth\n",
        "# from pydrive.drive import GoogleDrive\n",
        "# from google.colab import auth\n",
        "# from oauth2client.client import GoogleCredentials\n",
        "# # Authenticate and create the PyDrive client.\n",
        "# auth.authenticate_user()\n",
        "# gauth = GoogleAuth()\n",
        "# gauth.credentials = GoogleCredentials.get_application_default()\n",
        "# drive = GoogleDrive(gauth)\n",
        "\n",
        "# id = '1EnI1mSQcaCQWCkR8kJgRy7610EOyxv0n'\n",
        "# downloaded = drive.CreateFile({'id':id}) \n",
        "# downloaded.GetContentFile('data.csv')"
      ],
      "execution_count": null,
      "outputs": []
    },
    {
      "cell_type": "code",
      "metadata": {
        "id": "yORLbufN8vqs",
        "colab": {
          "base_uri": "https://localhost:8080/"
        },
        "outputId": "8d1f3c93-0c37-4395-da2d-abad20244fc7"
      },
      "source": [
        "import pandas as pd\n",
        "import numpy as np\n",
        "data = pd.read_csv(\"data.csv\")\n",
        "data = data.dropna()\n",
        "data = data.drop(columns = ['Unnamed: 0','datetime'] )\n",
        "all_data = data.values\n",
        "print(all_data)"
      ],
      "execution_count": 31,
      "outputs": [
        {
          "output_type": "stream",
          "text": [
            "[[1.40298    1.40366    1.39818    ... 1.39890772 1.41942    1.39337   ]\n",
            " [1.39914    1.40018    1.39468    ... 1.39755544 1.41942    1.39337   ]\n",
            " [1.3973     1.39872    1.396      ... 1.3964047  1.41942    1.39337   ]\n",
            " ...\n",
            " [1.19082    1.19405    1.1908     ... 1.17594413 1.19405    1.17625   ]\n",
            " [1.19342    1.1966     1.19217    ... 1.17582704 1.1966     1.17625   ]\n",
            " [1.19444    1.19503    1.19259    ... 1.17605877 1.1966     1.17625   ]]\n"
          ],
          "name": "stdout"
        }
      ]
    },
    {
      "cell_type": "code",
      "metadata": {
        "id": "eIGTuPyC4UhK"
      },
      "source": [
        "# def maxminnorm(array):\n",
        "#     maxcols=array.max(axis=0)\n",
        "#     print(maxcols)\n",
        "#     mincols=array.min(axis=0)\n",
        "#     data_shape = array.shape\n",
        "#     data_rows = data_shape[0]\n",
        "#     data_cols = data_shape[1]\n",
        "#     t=np.empty((data_rows,data_cols))\n",
        "#     for i in range(data_cols):\n",
        "#         t[:,i]=(array[:,i]-mincols[i])/(maxcols[i]-mincols[i])\n",
        "#     return t"
      ],
      "execution_count": null,
      "outputs": []
    },
    {
      "cell_type": "code",
      "metadata": {
        "id": "QfIlOJVA4b7h"
      },
      "source": [
        "#all_data = maxminnorm(all_data)"
      ],
      "execution_count": null,
      "outputs": []
    },
    {
      "cell_type": "code",
      "metadata": {
        "id": "YwnkE4wzKYqj",
        "colab": {
          "base_uri": "https://localhost:8080/"
        },
        "outputId": "bcbae833-a716-4a94-8ecd-a3cfd5f622ef"
      },
      "source": [
        "from sklearn import preprocessing\n",
        "all_data = preprocessing.scale(all_data)\n",
        "#check mean=0, std=1\n",
        "#all_data.mean(axis = 0)\n",
        "#all_data.std(axis = 0)\n",
        "all_data.shape"
      ],
      "execution_count": 32,
      "outputs": [
        {
          "output_type": "execute_result",
          "data": {
            "text/plain": [
              "(17220, 19)"
            ]
          },
          "metadata": {
            "tags": []
          },
          "execution_count": 32
        }
      ]
    },
    {
      "cell_type": "code",
      "metadata": {
        "id": "cAuUdNZ0LUoB",
        "colab": {
          "base_uri": "https://localhost:8080/"
        },
        "outputId": "80275b16-c746-4746-8065-b3921c381676"
      },
      "source": [
        "from sklearn.decomposition import PCA\n",
        "\n",
        "pca = PCA(n_components='mle') #auto select number of dimensions  \n",
        "pca.fit(all_data)                  \n",
        "all_data=pca.fit_transform(all_data)   \n",
        "print(pca.explained_variance_ratio_) "
      ],
      "execution_count": 33,
      "outputs": [
        {
          "output_type": "stream",
          "text": [
            "[9.44550509e-01 5.22183813e-02 2.12483795e-03 4.97311775e-04\n",
            " 4.43769038e-04 7.67845245e-05 3.38505490e-05 1.71690476e-05\n",
            " 1.41819895e-05 1.14128683e-05 7.74921927e-06 2.42665827e-06\n",
            " 1.61598721e-06 8.97788962e-32 5.37857326e-35 7.66825877e-36\n",
            " 9.69121862e-37 7.05559069e-37]\n"
          ],
          "name": "stdout"
        }
      ]
    },
    {
      "cell_type": "code",
      "metadata": {
        "id": "-IQQNiD8DKSu"
      },
      "source": [
        "def input_emb(original_data,seq):\n",
        "    emb_list = []\n",
        "    for i in range(0,len(original_data)-seq):\n",
        "        temp = []\n",
        "        for j in range(i,i+seq):\n",
        "            temp.append(original_data[j])\n",
        "        emb_list.append(temp)\n",
        "    return emb_list\n",
        "\n",
        "def label_emb(original_label,seq):\n",
        "    emb_list = []\n",
        "    for i in range(seq,len(original_label)):\n",
        "        emb_list.append(original_label[i])\n",
        "    return emb_list"
      ],
      "execution_count": 34,
      "outputs": []
    },
    {
      "cell_type": "code",
      "metadata": {
        "id": "x2nw6OtFx3Bn"
      },
      "source": [
        "def sp(data,co):\n",
        "  a = int(len(data)*co)\n",
        "  train = data[0:a]\n",
        "  test = data[a+1:]\n",
        "  return train,test"
      ],
      "execution_count": 35,
      "outputs": []
    },
    {
      "cell_type": "code",
      "metadata": {
        "id": "nyExz5emypH6"
      },
      "source": [
        "X_train,X_test = sp(all_data.tolist(),0.8)"
      ],
      "execution_count": 36,
      "outputs": []
    },
    {
      "cell_type": "code",
      "metadata": {
        "id": "hMxTzbd2zgw6"
      },
      "source": [
        "y_data = data['close'].values\n",
        "y_train,y_test = sp(y_data.tolist(),0.8)\n",
        "\n",
        "# _,data_time = sp(date_time_list.tolist(),0.7)\n",
        "# _,open_data = sp(open_list.tolist(),0.7)\n",
        "# _,high_data = sp(high_list.tolist(),0.7)\n",
        "# _,low_data = sp(low_list.tolist(),0.7)"
      ],
      "execution_count": 37,
      "outputs": []
    },
    {
      "cell_type": "code",
      "metadata": {
        "id": "A-2YobRqwhuT"
      },
      "source": [
        "# test=pd.DataFrame(data=X_test)\n",
        "# test['datetime'] = None\n",
        "# test['open'] = None\n",
        "# test['low'] = None\n",
        "# test['high'] = None\n",
        "# test['close'] = None\n",
        "# test.loc[:,'datetime'] = data_time\n",
        "# test.loc[:,'open'] = open_data\n",
        "# test.loc[:,'high'] = high_data\n",
        "# test.loc[:,'low'] = low_data\n",
        "# test.loc[:,'close'] = y_test\n",
        "# print(test)\n",
        "# test.to_csv('/content/for_backtesting_USD_JPY.csv')"
      ],
      "execution_count": null,
      "outputs": []
    },
    {
      "cell_type": "code",
      "metadata": {
        "id": "TsTnZSy6y7yx",
        "colab": {
          "base_uri": "https://localhost:8080/"
        },
        "outputId": "d97853f4-2330-4a33-adae-44955890310c"
      },
      "source": [
        "np.array(y_train).shape"
      ],
      "execution_count": 38,
      "outputs": [
        {
          "output_type": "execute_result",
          "data": {
            "text/plain": [
              "(13776,)"
            ]
          },
          "metadata": {
            "tags": []
          },
          "execution_count": 38
        }
      ]
    },
    {
      "cell_type": "code",
      "metadata": {
        "id": "ECqz_PtLMGZH",
        "colab": {
          "base_uri": "https://localhost:8080/"
        },
        "outputId": "13733c5f-05e5-4868-884d-1d2d8a7a1b57"
      },
      "source": [
        "import torch\n",
        "import torch.nn as nn\n",
        "import torch.nn.functional as F\n",
        "from sklearn.metrics import accuracy_score\n",
        "import torch.optim as optim\n",
        "sequence = 20\n",
        "input_emb_list_train = input_emb(X_train,sequence)\n",
        "input_emb_list_val = input_emb(X_test,sequence)\n",
        "label_emb_list_train = label_emb(y_train,sequence)\n",
        "label_emb_list_val = label_emb(y_test,sequence)\n",
        "input_batch_torch = torch.from_numpy(np.array(input_emb_list_train)).float()\n",
        "target_batch_torch = torch.from_numpy(np.array(label_emb_list_train)).view(-1).float()\n",
        "val_input = torch.from_numpy(np.array(input_emb_list_val)).float()\n",
        "\n",
        "val_target =torch.from_numpy(np.array(label_emb_list_val)).view(-1).float()\n",
        "print(target_batch_torch.numpy().shape)\n",
        "type(input_batch_torch)"
      ],
      "execution_count": 39,
      "outputs": [
        {
          "output_type": "stream",
          "text": [
            "(13756,)\n"
          ],
          "name": "stdout"
        },
        {
          "output_type": "execute_result",
          "data": {
            "text/plain": [
              "torch.Tensor"
            ]
          },
          "metadata": {
            "tags": []
          },
          "execution_count": 39
        }
      ]
    },
    {
      "cell_type": "code",
      "metadata": {
        "id": "rbtZZrliARys"
      },
      "source": [
        "n_input = 18\n",
        "n_hidden = 50\n",
        "n_class = 1\n",
        "total_epoch = 500\n",
        "learning_rate = 0.005"
      ],
      "execution_count": 40,
      "outputs": []
    },
    {
      "cell_type": "code",
      "metadata": {
        "id": "jPo4ANhTAV1T",
        "colab": {
          "base_uri": "https://localhost:8080/"
        },
        "outputId": "b37da567-5dfe-414d-f4e6-48450258486c"
      },
      "source": [
        "import torch\n",
        "import torch.nn as nn\n",
        "import torch.nn.functional as F\n",
        "from sklearn.metrics import accuracy_score\n",
        "import torch.optim as optim\n",
        "class MAPE(nn.Module):\n",
        "    def __init__(self):\n",
        "        super().__init__()\n",
        "        \n",
        "    def forward(self, x, y):\n",
        "        sub_t = torch.sub(y, x)\n",
        "        re = torch.abs(torch.div(sub_t,y))\n",
        "        \n",
        "       \n",
        "        return torch.mean(re)\n",
        "    \n",
        "class Correlation(nn.Module):\n",
        "    def __init__(self):\n",
        "        super().__init__()\n",
        "        \n",
        "    def forward(self, x, y):\n",
        "        mean_x = torch.mean(x)\n",
        "        mean_y = torch.mean(y)\n",
        "        \n",
        "        sub_x = x-mean_x\n",
        "        sub_y = y-mean_y\n",
        "        \n",
        "        sum_mul = torch.sum(torch.mul(sub_x,sub_y))\n",
        "        \n",
        "        pow_x = sub_x.pow(2)\n",
        "        pow_y = sub_y.pow(2)\n",
        "        \n",
        "        sum_pow = torch.mul(torch.sum(pow_x),torch.sum(pow_y))\n",
        "        sqrt_re = sum_pow.sqrt()\n",
        "        \n",
        "        return sum_mul/sqrt_re\n",
        "\n",
        "class Theil_U(nn.Module):\n",
        "    def __init__(self):\n",
        "        super().__init__()\n",
        "        \n",
        "    def forward(self, x, y):\n",
        "        sub_t = torch.sub(x,y)\n",
        "        mean_error = torch.mean(sub_t.pow(2)).sqrt()\n",
        "        mean_squar_x = torch.mean(x.pow(2)).sqrt()\n",
        "        mean_squar_y = torch.mean(y.pow(2)).sqrt()\n",
        "        re = mean_error/(mean_squar_x+mean_squar_y)\n",
        "       \n",
        "        return re\n",
        "        \n",
        "class biLSTM_Attention(nn.Module):\n",
        "\n",
        "    def __init__(self):\n",
        "\n",
        "        super(biLSTM_Attention, self).__init__()\n",
        "        self.bilstm = nn.LSTM(n_input, n_hidden, batch_first =True,bidirectional=True, dropout=0.5)  \n",
        "        self.linear_1 = nn.Linear(n_input, n_input)\n",
        "        self.linear_2 = nn.Linear(n_hidden * 2, n_class)\n",
        "\n",
        "        self.w_omega = nn.Parameter(torch.Tensor(n_hidden * 2, n_hidden * 2))\n",
        "        self.u_omega = nn.Parameter(torch.Tensor(n_hidden * 2, 1))\n",
        "        \n",
        "        nn.init.uniform_(self.w_omega, -0.1, 0.1)\n",
        "        nn.init.uniform_(self.u_omega, -0.1, 0.1)\n",
        "\n",
        "    def attention_net(self,x):\n",
        "      u = torch.tanh(torch.matmul(x, self.w_omega))  \n",
        "      att = torch.matmul(u, self.u_omega)\n",
        "      att_score = F.softmax(att, dim=1) \n",
        "      scored_x = x * att_score\n",
        "      context = torch.sum(scored_x, dim=1)\n",
        "      return context\n",
        "\n",
        "    def forward(self, x):\n",
        "        x = self.linear_1(x)\n",
        "        #h_n of shape (num_layers * num_directions, batch, hidden_size): tensor containing the hidden state for t = seq_len.\n",
        "        bilstm_out, (h_n,c_n) = self.bilstm(x)\n",
        "        \n",
        "        attn_output = self.attention_net(bilstm_out) \n",
        "        z = self.linear_2(attn_output)\n",
        "        return z.view(-1)\n",
        "    \n",
        "    # Loss function and optimizer\n",
        "net_bilstm = biLSTM_Attention()\n",
        "criterion = nn.MSELoss()\n",
        "optimizer = optim.Adam(net_bilstm.parameters(), lr=learning_rate)\n"
      ],
      "execution_count": 41,
      "outputs": [
        {
          "output_type": "stream",
          "text": [
            "/usr/local/lib/python3.6/dist-packages/torch/nn/modules/rnn.py:61: UserWarning: dropout option adds dropout after all but last recurrent layer, so non-zero dropout expects num_layers greater than 1, but got dropout=0.5 and num_layers=1\n",
            "  \"num_layers={}\".format(dropout, num_layers))\n"
          ],
          "name": "stderr"
        }
      ]
    },
    {
      "cell_type": "code",
      "metadata": {
        "id": "e_EDcVzhJ98t",
        "colab": {
          "base_uri": "https://localhost:8080/"
        },
        "outputId": "86553e85-81d7-492b-ad3e-c769fed4d2df"
      },
      "source": [
        "loss_list_train = []\n",
        "loss_list_test = []\n",
        "\n",
        "mape_list_train =[]\n",
        "mape_list_test =[]\n",
        "\n",
        "correlation_list_train = []\n",
        "correlation_list_test = []\n",
        "\n",
        "Theil_U_list_train =[]\n",
        "Theil_U_list_test =[]\n",
        "\n",
        "mape = MAPE()\n",
        "cor = Correlation()\n",
        "Theil = Theil_U()\n",
        "for epoch in range(total_epoch):  \n",
        "    \n",
        "    # Set the flag to training\n",
        "    net_bilstm.train()\n",
        "    \n",
        "    # forward + backward + optimize\n",
        "    outputs= net_bilstm(input_batch_torch) \n",
        "    loss = criterion(outputs, target_batch_torch).sqrt()\n",
        "    loss.backward()\n",
        "    optimizer.step()\n",
        "    optimizer.zero_grad()\n",
        "\n",
        "    # Set the flag to evaluation, which will 'turn off' the dropout\n",
        "    net_bilstm.eval()\n",
        "    output_train = net_bilstm(input_batch_torch) \n",
        "    output_test = net_bilstm(val_input)\n",
        "    \n",
        "    # Evaluation loss and accuracy calculation\n",
        "    loss_train = criterion(output_train, target_batch_torch).sqrt()\n",
        "    loss_test = criterion(output_test,val_target).sqrt()\n",
        "    loss_list_train.append(loss_train.item())\n",
        "    loss_list_test.append(loss_test.item())\n",
        "\n",
        "    loss_mape_train =mape(output_train, target_batch_torch)\n",
        "    loss_mape_test =mape(output_test,val_target)\n",
        "    mape_list_train.append(loss_mape_train.item())\n",
        "    mape_list_test.append(loss_mape_test.item())\n",
        "\n",
        "    loss_cor_train = cor(output_train, target_batch_torch)\n",
        "    loss_cor_test = cor(output_test,val_target)\n",
        "    correlation_list_train.append(loss_cor_train.item())\n",
        "    correlation_list_test.append(loss_cor_test.item())\n",
        "\n",
        "    loss_theil_train = Theil(output_train, target_batch_torch) \n",
        "    loss_theil_test = Theil(output_test,val_target)\n",
        "    Theil_U_list_train.append(loss_theil_train.item())\n",
        "    Theil_U_list_test.append(loss_theil_test.item())\n",
        "    \n",
        "    #acc= accuracy_score(predicted.cpu().numpy(),target_batch_torch.cpu().numpy())\n",
        "\n",
        "    print('Epoch: %d, loss: %.5f' %(epoch + 1, loss_train.item()))\n",
        "\n",
        "print('Finished Training')\n"
      ],
      "execution_count": null,
      "outputs": [
        {
          "output_type": "stream",
          "text": [
            "Epoch: 1, loss: 0.97434\n",
            "Epoch: 2, loss: 0.81485\n",
            "Epoch: 3, loss: 0.63357\n",
            "Epoch: 4, loss: 0.46041\n",
            "Epoch: 5, loss: 0.34722\n",
            "Epoch: 6, loss: 0.25670\n",
            "Epoch: 7, loss: 0.29763\n",
            "Epoch: 8, loss: 0.29082\n",
            "Epoch: 9, loss: 0.21436\n",
            "Epoch: 10, loss: 0.10360\n",
            "Epoch: 11, loss: 0.09768\n",
            "Epoch: 12, loss: 0.13952\n",
            "Epoch: 13, loss: 0.12817\n",
            "Epoch: 14, loss: 0.09168\n",
            "Epoch: 15, loss: 0.07174\n",
            "Epoch: 16, loss: 0.07730\n",
            "Epoch: 17, loss: 0.09539\n",
            "Epoch: 18, loss: 0.09181\n",
            "Epoch: 19, loss: 0.05738\n",
            "Epoch: 20, loss: 0.03023\n",
            "Epoch: 21, loss: 0.04845\n",
            "Epoch: 22, loss: 0.05014\n",
            "Epoch: 23, loss: 0.03978\n",
            "Epoch: 24, loss: 0.02482\n",
            "Epoch: 25, loss: 0.03586\n",
            "Epoch: 26, loss: 0.04765\n",
            "Epoch: 27, loss: 0.03936\n",
            "Epoch: 28, loss: 0.02453\n",
            "Epoch: 29, loss: 0.02615\n",
            "Epoch: 30, loss: 0.03234\n",
            "Epoch: 31, loss: 0.02676\n",
            "Epoch: 32, loss: 0.01105\n",
            "Epoch: 33, loss: 0.02272\n",
            "Epoch: 34, loss: 0.02514\n",
            "Epoch: 35, loss: 0.01584\n",
            "Epoch: 36, loss: 0.01992\n",
            "Epoch: 37, loss: 0.02381\n",
            "Epoch: 38, loss: 0.01684\n",
            "Epoch: 39, loss: 0.01288\n",
            "Epoch: 40, loss: 0.01719\n",
            "Epoch: 41, loss: 0.01079\n",
            "Epoch: 42, loss: 0.01550\n",
            "Epoch: 43, loss: 0.01711\n",
            "Epoch: 44, loss: 0.01085\n",
            "Epoch: 45, loss: 0.01750\n",
            "Epoch: 46, loss: 0.01592\n",
            "Epoch: 47, loss: 0.01034\n",
            "Epoch: 48, loss: 0.02154\n",
            "Epoch: 49, loss: 0.01642\n",
            "Epoch: 50, loss: 0.01914\n",
            "Epoch: 51, loss: 0.01339\n",
            "Epoch: 52, loss: 0.01982\n",
            "Epoch: 53, loss: 0.00844\n",
            "Epoch: 54, loss: 0.01284\n",
            "Epoch: 55, loss: 0.01348\n",
            "Epoch: 56, loss: 0.00926\n",
            "Epoch: 57, loss: 0.00853\n",
            "Epoch: 58, loss: 0.00803\n",
            "Epoch: 59, loss: 0.00862\n",
            "Epoch: 60, loss: 0.01077\n",
            "Epoch: 61, loss: 0.01333\n",
            "Epoch: 62, loss: 0.00762\n",
            "Epoch: 63, loss: 0.00812\n",
            "Epoch: 64, loss: 0.00721\n",
            "Epoch: 65, loss: 0.01084\n",
            "Epoch: 66, loss: 0.01228\n",
            "Epoch: 67, loss: 0.00924\n",
            "Epoch: 68, loss: 0.00757\n",
            "Epoch: 69, loss: 0.00952\n",
            "Epoch: 70, loss: 0.01188\n",
            "Epoch: 71, loss: 0.00957\n",
            "Epoch: 72, loss: 0.00811\n",
            "Epoch: 73, loss: 0.00931\n",
            "Epoch: 74, loss: 0.01126\n",
            "Epoch: 75, loss: 0.00925\n",
            "Epoch: 76, loss: 0.00840\n",
            "Epoch: 77, loss: 0.00959\n",
            "Epoch: 78, loss: 0.01066\n",
            "Epoch: 79, loss: 0.00869\n",
            "Epoch: 80, loss: 0.00860\n",
            "Epoch: 81, loss: 0.00991\n",
            "Epoch: 82, loss: 0.00980\n",
            "Epoch: 83, loss: 0.00843\n",
            "Epoch: 84, loss: 0.00899\n",
            "Epoch: 85, loss: 0.00990\n",
            "Epoch: 86, loss: 0.00891\n",
            "Epoch: 87, loss: 0.00842\n",
            "Epoch: 88, loss: 0.00943\n",
            "Epoch: 89, loss: 0.00942\n",
            "Epoch: 90, loss: 0.00839\n",
            "Epoch: 91, loss: 0.00871\n",
            "Epoch: 92, loss: 0.00951\n",
            "Epoch: 93, loss: 0.00877\n",
            "Epoch: 94, loss: 0.00830\n",
            "Epoch: 95, loss: 0.00912\n",
            "Epoch: 96, loss: 0.00900\n",
            "Epoch: 97, loss: 0.00842\n",
            "Epoch: 98, loss: 0.00857\n",
            "Epoch: 99, loss: 0.00916\n",
            "Epoch: 100, loss: 0.00835\n",
            "Epoch: 101, loss: 0.00846\n",
            "Epoch: 102, loss: 0.00885\n",
            "Epoch: 103, loss: 0.00872\n",
            "Epoch: 104, loss: 0.00809\n",
            "Epoch: 105, loss: 0.00875\n",
            "Epoch: 106, loss: 0.00862\n",
            "Epoch: 107, loss: 0.00833\n",
            "Epoch: 108, loss: 0.00828\n",
            "Epoch: 109, loss: 0.00878\n",
            "Epoch: 110, loss: 0.00814\n",
            "Epoch: 111, loss: 0.00833\n",
            "Epoch: 112, loss: 0.00850\n",
            "Epoch: 113, loss: 0.00838\n",
            "Epoch: 114, loss: 0.00803\n",
            "Epoch: 115, loss: 0.00852\n",
            "Epoch: 116, loss: 0.00822\n",
            "Epoch: 117, loss: 0.00815\n",
            "Epoch: 118, loss: 0.00823\n",
            "Epoch: 119, loss: 0.00835\n",
            "Epoch: 120, loss: 0.00793\n",
            "Epoch: 121, loss: 0.00827\n",
            "Epoch: 122, loss: 0.00814\n",
            "Epoch: 123, loss: 0.00808\n",
            "Epoch: 124, loss: 0.00799\n",
            "Epoch: 125, loss: 0.00826\n",
            "Epoch: 126, loss: 0.00783\n",
            "Epoch: 127, loss: 0.00811\n",
            "Epoch: 128, loss: 0.00800\n",
            "Epoch: 129, loss: 0.00800\n",
            "Epoch: 130, loss: 0.00784\n",
            "Epoch: 131, loss: 0.00813\n",
            "Epoch: 132, loss: 0.00775\n",
            "Epoch: 133, loss: 0.00798\n",
            "Epoch: 134, loss: 0.00787\n",
            "Epoch: 135, loss: 0.00791\n",
            "Epoch: 136, loss: 0.00772\n",
            "Epoch: 137, loss: 0.00800\n",
            "Epoch: 138, loss: 0.00765\n",
            "Epoch: 139, loss: 0.00787\n",
            "Epoch: 140, loss: 0.00772\n",
            "Epoch: 141, loss: 0.00781\n",
            "Epoch: 142, loss: 0.00761\n",
            "Epoch: 143, loss: 0.00787\n",
            "Epoch: 144, loss: 0.00755\n",
            "Epoch: 145, loss: 0.00777\n",
            "Epoch: 146, loss: 0.00759\n",
            "Epoch: 147, loss: 0.00771\n",
            "Epoch: 148, loss: 0.00751\n",
            "Epoch: 149, loss: 0.00774\n",
            "Epoch: 150, loss: 0.00744\n",
            "Epoch: 151, loss: 0.00767\n",
            "Epoch: 152, loss: 0.00747\n",
            "Epoch: 153, loss: 0.00761\n",
            "Epoch: 154, loss: 0.00741\n",
            "Epoch: 155, loss: 0.00763\n",
            "Epoch: 156, loss: 0.00735\n",
            "Epoch: 157, loss: 0.00758\n",
            "Epoch: 158, loss: 0.00736\n",
            "Epoch: 159, loss: 0.00751\n",
            "Epoch: 160, loss: 0.00732\n",
            "Epoch: 161, loss: 0.00752\n",
            "Epoch: 162, loss: 0.00726\n",
            "Epoch: 163, loss: 0.00748\n",
            "Epoch: 164, loss: 0.00726\n",
            "Epoch: 165, loss: 0.00742\n",
            "Epoch: 166, loss: 0.00723\n",
            "Epoch: 167, loss: 0.00742\n",
            "Epoch: 168, loss: 0.00717\n",
            "Epoch: 169, loss: 0.00739\n",
            "Epoch: 170, loss: 0.00717\n",
            "Epoch: 171, loss: 0.00734\n",
            "Epoch: 172, loss: 0.00714\n",
            "Epoch: 173, loss: 0.00732\n",
            "Epoch: 174, loss: 0.00710\n",
            "Epoch: 175, loss: 0.00730\n",
            "Epoch: 176, loss: 0.00708\n",
            "Epoch: 177, loss: 0.00726\n",
            "Epoch: 178, loss: 0.00706\n",
            "Epoch: 179, loss: 0.00724\n",
            "Epoch: 180, loss: 0.00702\n",
            "Epoch: 181, loss: 0.00722\n",
            "Epoch: 182, loss: 0.00700\n",
            "Epoch: 183, loss: 0.00718\n",
            "Epoch: 184, loss: 0.00699\n",
            "Epoch: 185, loss: 0.00716\n",
            "Epoch: 186, loss: 0.00695\n",
            "Epoch: 187, loss: 0.00714\n",
            "Epoch: 188, loss: 0.00693\n",
            "Epoch: 189, loss: 0.00711\n",
            "Epoch: 190, loss: 0.00692\n",
            "Epoch: 191, loss: 0.00708\n",
            "Epoch: 192, loss: 0.00689\n",
            "Epoch: 193, loss: 0.00707\n",
            "Epoch: 194, loss: 0.00687\n",
            "Epoch: 195, loss: 0.00704\n",
            "Epoch: 196, loss: 0.00685\n",
            "Epoch: 197, loss: 0.00702\n",
            "Epoch: 198, loss: 0.00683\n",
            "Epoch: 199, loss: 0.00700\n",
            "Epoch: 200, loss: 0.00681\n",
            "Epoch: 201, loss: 0.00698\n",
            "Epoch: 202, loss: 0.00679\n",
            "Epoch: 203, loss: 0.00695\n",
            "Epoch: 204, loss: 0.00677\n",
            "Epoch: 205, loss: 0.00694\n",
            "Epoch: 206, loss: 0.00675\n",
            "Epoch: 207, loss: 0.00692\n",
            "Epoch: 208, loss: 0.00673\n",
            "Epoch: 209, loss: 0.00690\n",
            "Epoch: 210, loss: 0.00672\n",
            "Epoch: 211, loss: 0.00688\n",
            "Epoch: 212, loss: 0.00670\n",
            "Epoch: 213, loss: 0.00686\n",
            "Epoch: 214, loss: 0.00668\n",
            "Epoch: 215, loss: 0.00684\n",
            "Epoch: 216, loss: 0.00667\n",
            "Epoch: 217, loss: 0.00683\n",
            "Epoch: 218, loss: 0.00665\n",
            "Epoch: 219, loss: 0.00681\n",
            "Epoch: 220, loss: 0.00663\n",
            "Epoch: 221, loss: 0.00679\n",
            "Epoch: 222, loss: 0.00662\n",
            "Epoch: 223, loss: 0.00678\n",
            "Epoch: 224, loss: 0.00660\n",
            "Epoch: 225, loss: 0.00676\n",
            "Epoch: 226, loss: 0.00659\n",
            "Epoch: 227, loss: 0.00674\n",
            "Epoch: 228, loss: 0.00657\n",
            "Epoch: 229, loss: 0.00673\n",
            "Epoch: 230, loss: 0.00656\n",
            "Epoch: 231, loss: 0.00671\n",
            "Epoch: 232, loss: 0.00655\n",
            "Epoch: 233, loss: 0.00670\n",
            "Epoch: 234, loss: 0.00653\n",
            "Epoch: 235, loss: 0.00668\n",
            "Epoch: 236, loss: 0.00652\n",
            "Epoch: 237, loss: 0.00667\n",
            "Epoch: 238, loss: 0.00650\n",
            "Epoch: 239, loss: 0.00665\n",
            "Epoch: 240, loss: 0.00649\n",
            "Epoch: 241, loss: 0.00664\n",
            "Epoch: 242, loss: 0.00648\n",
            "Epoch: 243, loss: 0.00662\n",
            "Epoch: 244, loss: 0.00647\n",
            "Epoch: 245, loss: 0.00661\n",
            "Epoch: 246, loss: 0.00645\n",
            "Epoch: 247, loss: 0.00660\n",
            "Epoch: 248, loss: 0.00644\n",
            "Epoch: 249, loss: 0.00658\n",
            "Epoch: 250, loss: 0.00643\n",
            "Epoch: 251, loss: 0.00657\n",
            "Epoch: 252, loss: 0.00642\n",
            "Epoch: 253, loss: 0.00656\n",
            "Epoch: 254, loss: 0.00640\n",
            "Epoch: 255, loss: 0.00655\n",
            "Epoch: 256, loss: 0.00639\n",
            "Epoch: 257, loss: 0.00653\n",
            "Epoch: 258, loss: 0.00638\n",
            "Epoch: 259, loss: 0.00652\n",
            "Epoch: 260, loss: 0.00637\n",
            "Epoch: 261, loss: 0.00651\n",
            "Epoch: 262, loss: 0.00636\n",
            "Epoch: 263, loss: 0.00650\n",
            "Epoch: 264, loss: 0.00635\n",
            "Epoch: 265, loss: 0.00649\n",
            "Epoch: 266, loss: 0.00634\n",
            "Epoch: 267, loss: 0.00647\n",
            "Epoch: 268, loss: 0.00633\n",
            "Epoch: 269, loss: 0.00646\n",
            "Epoch: 270, loss: 0.00632\n",
            "Epoch: 271, loss: 0.00645\n",
            "Epoch: 272, loss: 0.00631\n",
            "Epoch: 273, loss: 0.00644\n",
            "Epoch: 274, loss: 0.00630\n",
            "Epoch: 275, loss: 0.00643\n",
            "Epoch: 276, loss: 0.00629\n",
            "Epoch: 277, loss: 0.00642\n",
            "Epoch: 278, loss: 0.00628\n",
            "Epoch: 279, loss: 0.00641\n",
            "Epoch: 280, loss: 0.00627\n",
            "Epoch: 281, loss: 0.00640\n",
            "Epoch: 282, loss: 0.00626\n",
            "Epoch: 283, loss: 0.00639\n",
            "Epoch: 284, loss: 0.00625\n",
            "Epoch: 285, loss: 0.00638\n",
            "Epoch: 286, loss: 0.00624\n",
            "Epoch: 287, loss: 0.00637\n",
            "Epoch: 288, loss: 0.00623\n",
            "Epoch: 289, loss: 0.00636\n",
            "Epoch: 290, loss: 0.00622\n",
            "Epoch: 291, loss: 0.00635\n",
            "Epoch: 292, loss: 0.00621\n",
            "Epoch: 293, loss: 0.00634\n",
            "Epoch: 294, loss: 0.00620\n",
            "Epoch: 295, loss: 0.00633\n",
            "Epoch: 296, loss: 0.00619\n",
            "Epoch: 297, loss: 0.00632\n",
            "Epoch: 298, loss: 0.00618\n",
            "Epoch: 299, loss: 0.00631\n",
            "Epoch: 300, loss: 0.00618\n",
            "Epoch: 301, loss: 0.00630\n",
            "Epoch: 302, loss: 0.00617\n",
            "Epoch: 303, loss: 0.00629\n",
            "Epoch: 304, loss: 0.00616\n",
            "Epoch: 305, loss: 0.00628\n",
            "Epoch: 306, loss: 0.00615\n",
            "Epoch: 307, loss: 0.00627\n",
            "Epoch: 308, loss: 0.00614\n",
            "Epoch: 309, loss: 0.00626\n",
            "Epoch: 310, loss: 0.00613\n",
            "Epoch: 311, loss: 0.00625\n",
            "Epoch: 312, loss: 0.00612\n",
            "Epoch: 313, loss: 0.00625\n",
            "Epoch: 314, loss: 0.00612\n",
            "Epoch: 315, loss: 0.00624\n",
            "Epoch: 316, loss: 0.00611\n",
            "Epoch: 317, loss: 0.00623\n",
            "Epoch: 318, loss: 0.00610\n",
            "Epoch: 319, loss: 0.00622\n",
            "Epoch: 320, loss: 0.00609\n",
            "Epoch: 321, loss: 0.00621\n",
            "Epoch: 322, loss: 0.00609\n",
            "Epoch: 323, loss: 0.00620\n",
            "Epoch: 324, loss: 0.00608\n",
            "Epoch: 325, loss: 0.00619\n",
            "Epoch: 326, loss: 0.00607\n",
            "Epoch: 327, loss: 0.00619\n",
            "Epoch: 328, loss: 0.00606\n",
            "Epoch: 329, loss: 0.00618\n",
            "Epoch: 330, loss: 0.00606\n",
            "Epoch: 331, loss: 0.00617\n",
            "Epoch: 332, loss: 0.00605\n",
            "Epoch: 333, loss: 0.00616\n",
            "Epoch: 334, loss: 0.00604\n",
            "Epoch: 335, loss: 0.00615\n",
            "Epoch: 336, loss: 0.00603\n",
            "Epoch: 337, loss: 0.00615\n",
            "Epoch: 338, loss: 0.00603\n",
            "Epoch: 339, loss: 0.00614\n",
            "Epoch: 340, loss: 0.00602\n",
            "Epoch: 341, loss: 0.00613\n",
            "Epoch: 342, loss: 0.00601\n",
            "Epoch: 343, loss: 0.00612\n",
            "Epoch: 344, loss: 0.00600\n",
            "Epoch: 345, loss: 0.00612\n",
            "Epoch: 346, loss: 0.00600\n",
            "Epoch: 347, loss: 0.00611\n",
            "Epoch: 348, loss: 0.00599\n",
            "Epoch: 349, loss: 0.00610\n",
            "Epoch: 350, loss: 0.00598\n",
            "Epoch: 351, loss: 0.00609\n",
            "Epoch: 352, loss: 0.00598\n",
            "Epoch: 353, loss: 0.00609\n",
            "Epoch: 354, loss: 0.00597\n",
            "Epoch: 355, loss: 0.00608\n",
            "Epoch: 356, loss: 0.00596\n",
            "Epoch: 357, loss: 0.00607\n",
            "Epoch: 358, loss: 0.00596\n",
            "Epoch: 359, loss: 0.00607\n",
            "Epoch: 360, loss: 0.00595\n",
            "Epoch: 361, loss: 0.00606\n",
            "Epoch: 362, loss: 0.00594\n",
            "Epoch: 363, loss: 0.00605\n",
            "Epoch: 364, loss: 0.00594\n",
            "Epoch: 365, loss: 0.00604\n",
            "Epoch: 366, loss: 0.00593\n",
            "Epoch: 367, loss: 0.00604\n",
            "Epoch: 368, loss: 0.00592\n",
            "Epoch: 369, loss: 0.00603\n",
            "Epoch: 370, loss: 0.00592\n",
            "Epoch: 371, loss: 0.00602\n",
            "Epoch: 372, loss: 0.00591\n",
            "Epoch: 373, loss: 0.00602\n",
            "Epoch: 374, loss: 0.00591\n",
            "Epoch: 375, loss: 0.00601\n",
            "Epoch: 376, loss: 0.00590\n",
            "Epoch: 377, loss: 0.00600\n",
            "Epoch: 378, loss: 0.00589\n",
            "Epoch: 379, loss: 0.00600\n",
            "Epoch: 380, loss: 0.00589\n",
            "Epoch: 381, loss: 0.00599\n",
            "Epoch: 382, loss: 0.00588\n",
            "Epoch: 383, loss: 0.00599\n",
            "Epoch: 384, loss: 0.00588\n",
            "Epoch: 385, loss: 0.00598\n",
            "Epoch: 386, loss: 0.00587\n",
            "Epoch: 387, loss: 0.00597\n",
            "Epoch: 388, loss: 0.00586\n",
            "Epoch: 389, loss: 0.00597\n",
            "Epoch: 390, loss: 0.00586\n",
            "Epoch: 391, loss: 0.00596\n",
            "Epoch: 392, loss: 0.00585\n",
            "Epoch: 393, loss: 0.00595\n",
            "Epoch: 394, loss: 0.00585\n",
            "Epoch: 395, loss: 0.00595\n",
            "Epoch: 396, loss: 0.00584\n",
            "Epoch: 397, loss: 0.00594\n",
            "Epoch: 398, loss: 0.00583\n",
            "Epoch: 399, loss: 0.00593\n",
            "Epoch: 400, loss: 0.00583\n",
            "Epoch: 401, loss: 0.00593\n",
            "Epoch: 402, loss: 0.00582\n",
            "Epoch: 403, loss: 0.00592\n",
            "Epoch: 404, loss: 0.00582\n",
            "Epoch: 405, loss: 0.00592\n",
            "Epoch: 406, loss: 0.00581\n",
            "Epoch: 407, loss: 0.00591\n",
            "Epoch: 408, loss: 0.00581\n",
            "Epoch: 409, loss: 0.00591\n",
            "Epoch: 410, loss: 0.00580\n",
            "Epoch: 411, loss: 0.00590\n",
            "Epoch: 412, loss: 0.00580\n",
            "Epoch: 413, loss: 0.00589\n",
            "Epoch: 414, loss: 0.00579\n",
            "Epoch: 415, loss: 0.00589\n",
            "Epoch: 416, loss: 0.00579\n",
            "Epoch: 417, loss: 0.00588\n",
            "Epoch: 418, loss: 0.00578\n",
            "Epoch: 419, loss: 0.00588\n",
            "Epoch: 420, loss: 0.00577\n",
            "Epoch: 421, loss: 0.00587\n",
            "Epoch: 422, loss: 0.00577\n",
            "Epoch: 423, loss: 0.00586\n",
            "Epoch: 424, loss: 0.00576\n",
            "Epoch: 425, loss: 0.00586\n",
            "Epoch: 426, loss: 0.00576\n",
            "Epoch: 427, loss: 0.00585\n",
            "Epoch: 428, loss: 0.00575\n",
            "Epoch: 429, loss: 0.00585\n",
            "Epoch: 430, loss: 0.00575\n",
            "Epoch: 431, loss: 0.00584\n",
            "Epoch: 432, loss: 0.00574\n",
            "Epoch: 433, loss: 0.00584\n",
            "Epoch: 434, loss: 0.00574\n",
            "Epoch: 435, loss: 0.00583\n",
            "Epoch: 436, loss: 0.00573\n",
            "Epoch: 437, loss: 0.00583\n",
            "Epoch: 438, loss: 0.00573\n",
            "Epoch: 439, loss: 0.00582\n",
            "Epoch: 440, loss: 0.00572\n",
            "Epoch: 441, loss: 0.00582\n",
            "Epoch: 442, loss: 0.00572\n",
            "Epoch: 443, loss: 0.00581\n",
            "Epoch: 444, loss: 0.00571\n",
            "Epoch: 445, loss: 0.00581\n",
            "Epoch: 446, loss: 0.00571\n",
            "Epoch: 447, loss: 0.00580\n",
            "Epoch: 448, loss: 0.00570\n",
            "Epoch: 449, loss: 0.00580\n",
            "Epoch: 450, loss: 0.00570\n",
            "Epoch: 451, loss: 0.00579\n",
            "Epoch: 452, loss: 0.00569\n",
            "Epoch: 453, loss: 0.00578\n",
            "Epoch: 454, loss: 0.00569\n",
            "Epoch: 455, loss: 0.00578\n",
            "Epoch: 456, loss: 0.00569\n",
            "Epoch: 457, loss: 0.00577\n",
            "Epoch: 458, loss: 0.00568\n",
            "Epoch: 459, loss: 0.00577\n",
            "Epoch: 460, loss: 0.00568\n",
            "Epoch: 461, loss: 0.00577\n",
            "Epoch: 462, loss: 0.00567\n",
            "Epoch: 463, loss: 0.00576\n",
            "Epoch: 464, loss: 0.00567\n",
            "Epoch: 465, loss: 0.00576\n",
            "Epoch: 466, loss: 0.00566\n",
            "Epoch: 467, loss: 0.00575\n",
            "Epoch: 468, loss: 0.00566\n",
            "Epoch: 469, loss: 0.00575\n",
            "Epoch: 470, loss: 0.00565\n",
            "Epoch: 471, loss: 0.00574\n",
            "Epoch: 472, loss: 0.00565\n",
            "Epoch: 473, loss: 0.00574\n",
            "Epoch: 474, loss: 0.00564\n",
            "Epoch: 475, loss: 0.00573\n",
            "Epoch: 476, loss: 0.00564\n",
            "Epoch: 477, loss: 0.00573\n",
            "Epoch: 478, loss: 0.00564\n",
            "Epoch: 479, loss: 0.00572\n",
            "Epoch: 480, loss: 0.00563\n",
            "Epoch: 481, loss: 0.00572\n",
            "Epoch: 482, loss: 0.00563\n",
            "Epoch: 483, loss: 0.00571\n",
            "Epoch: 484, loss: 0.00562\n",
            "Epoch: 485, loss: 0.00571\n",
            "Epoch: 486, loss: 0.00562\n",
            "Epoch: 487, loss: 0.00570\n",
            "Epoch: 488, loss: 0.00561\n",
            "Epoch: 489, loss: 0.00570\n",
            "Epoch: 490, loss: 0.00561\n",
            "Epoch: 491, loss: 0.00569\n",
            "Epoch: 492, loss: 0.00561\n",
            "Epoch: 493, loss: 0.00569\n",
            "Epoch: 494, loss: 0.00560\n",
            "Epoch: 495, loss: 0.00568\n",
            "Epoch: 496, loss: 0.00560\n",
            "Epoch: 497, loss: 0.00568\n",
            "Epoch: 498, loss: 0.00559\n",
            "Epoch: 499, loss: 0.00568\n",
            "Epoch: 500, loss: 0.00559\n",
            "Finished Training\n"
          ],
          "name": "stdout"
        }
      ]
    },
    {
      "cell_type": "code",
      "metadata": {
        "id": "HZMNsvFhZ83p"
      },
      "source": [
        "net = torch.load('bilstm+attention.pt')\n",
        "output_test = net(val_input)\n",
        "    "
      ],
      "execution_count": 42,
      "outputs": []
    },
    {
      "cell_type": "code",
      "metadata": {
        "colab": {
          "base_uri": "https://localhost:8080/"
        },
        "id": "KLJ7zUtrbhhL",
        "outputId": "46b1a3f8-c7b9-4545-cb72-8280731503ae"
      },
      "source": [
        "from sklearn.metrics import mean_squared_error\n",
        "output_test = output_test.detach().numpy()\n",
        "val_target = val_target.numpy()\n",
        "rmse = mean_squared_error(output_test,val_target)**(0.5)\n",
        "rmse"
      ],
      "execution_count": 43,
      "outputs": [
        {
          "output_type": "execute_result",
          "data": {
            "text/plain": [
              "0.004590663850912468"
            ]
          },
          "metadata": {
            "tags": []
          },
          "execution_count": 43
        }
      ]
    },
    {
      "cell_type": "code",
      "metadata": {
        "id": "x4iSJdWGchCx"
      },
      "source": [
        "def mape(pred,)"
      ],
      "execution_count": null,
      "outputs": []
    },
    {
      "cell_type": "code",
      "metadata": {
        "colab": {
          "base_uri": "https://localhost:8080/"
        },
        "id": "lQFebEvGajMg",
        "outputId": "09646c35-153e-40a2-e5f8-f60538cedc49"
      },
      "source": [
        "val_input.size()"
      ],
      "execution_count": 13,
      "outputs": [
        {
          "output_type": "execute_result",
          "data": {
            "text/plain": [
              "torch.Size([3447, 20, 4])"
            ]
          },
          "metadata": {
            "tags": []
          },
          "execution_count": 13
        }
      ]
    },
    {
      "cell_type": "code",
      "metadata": {
        "id": "ia2P4R4d1Hn_"
      },
      "source": [
        "train_after_train=net_bilstm(input_batch_torch).detach().numpy()\n",
        "test_after_train =net_bilstm(val_input).detach().numpy()"
      ],
      "execution_count": null,
      "outputs": []
    },
    {
      "cell_type": "code",
      "metadata": {
        "id": "iEPGoJj7GUVM"
      },
      "source": [
        "import torch\n",
        "import torch.nn as nn\n",
        "import torch.nn.functional as F\n",
        "import torch.optim as optim\n",
        "torch.save(net_bilstm,'/content/bilstm_model.pt')\n",
        "model311 = torch.load('/content/bilstm_model.pt')\n"
      ],
      "execution_count": null,
      "outputs": []
    },
    {
      "cell_type": "code",
      "metadata": {
        "id": "lFQUlwKnrE84",
        "colab": {
          "base_uri": "https://localhost:8080/"
        },
        "outputId": "5e09910e-7840-4506-9c20-d406a709911c"
      },
      "source": [
        "test_after_train"
      ],
      "execution_count": null,
      "outputs": [
        {
          "output_type": "execute_result",
          "data": {
            "text/plain": [
              "array([1.1617559, 1.1613678, 1.1639122, ..., 1.1943684, 1.1974504,\n",
              "       1.198629 ], dtype=float32)"
            ]
          },
          "metadata": {
            "tags": []
          },
          "execution_count": 20
        }
      ]
    },
    {
      "cell_type": "code",
      "metadata": {
        "id": "qEXBDkr205IX",
        "colab": {
          "base_uri": "https://localhost:8080/",
          "height": 320
        },
        "outputId": "d5c39aca-84d8-43a0-d4c3-4664c01cb884"
      },
      "source": [
        "import matplotlib.pyplot as plt\n",
        "plt.figure(figsize=(15,5))\n",
        "plt.plot(label_emb_list_val,'blue',label='True')\n",
        "plt.plot(test_after_train,'red',label='Prediction')\n",
        "plt.legend()\n",
        "plt.show()"
      ],
      "execution_count": null,
      "outputs": [
        {
          "output_type": "display_data",
          "data": {
            "image/png": "[encoded data removed]",
            "text/plain": [
              "<Figure size 1080x360 with 1 Axes>"
            ]
          },
          "metadata": {
            "tags": [],
            "needs_background": "light"
          }
        }
      ]
    },
    {
      "cell_type": "code",
      "metadata": {
        "id": "ys8w1DA81FvU",
        "colab": {
          "base_uri": "https://localhost:8080/",
          "height": 566
        },
        "outputId": "d54be586-632e-4732-8fec-9164392ceb43"
      },
      "source": [
        "!pip install -U -q PyDrive\n",
        "from pydrive.auth import GoogleAuth\n",
        "from pydrive.drive import GoogleDrive\n",
        "from google.colab import auth\n",
        "from oauth2client.client import GoogleCredentials\n",
        "# Authenticate and create the PyDrive client.\n",
        "auth.authenticate_user()\n",
        "gauth = GoogleAuth()\n",
        "gauth.credentials = GoogleCredentials.get_application_default()\n",
        "drive = GoogleDrive(gauth)\n",
        "id = '1ocyyFOSK9ksPMUECThkFOvRCU3gxjeHu'\n",
        "downloaded = drive.CreateFile({'id':id}) \n",
        "downloaded.GetContentFile('bilstm_model.pt')\n",
        "\n",
        "net = torch.load('bilstm_model.pt')\n",
        "ot = net(val_input).detach().numpy()"
      ],
      "execution_count": null,
      "outputs": [
        {
          "output_type": "error",
          "ename": "KeyboardInterrupt",
          "evalue": "ignored",
          "traceback": [
            "\u001b[0;31m---------------------------------------------------------------------------\u001b[0m",
            "\u001b[0;31mKeyboardInterrupt\u001b[0m                         Traceback (most recent call last)",
            "\u001b[0;32m/usr/local/lib/python3.6/dist-packages/ipykernel/kernelbase.py\u001b[0m in \u001b[0;36m_input_request\u001b[0;34m(self, prompt, ident, parent, password)\u001b[0m\n\u001b[1;32m    728\u001b[0m             \u001b[0;32mtry\u001b[0m\u001b[0;34m:\u001b[0m\u001b[0;34m\u001b[0m\u001b[0;34m\u001b[0m\u001b[0m\n\u001b[0;32m--> 729\u001b[0;31m                 \u001b[0mident\u001b[0m\u001b[0;34m,\u001b[0m \u001b[0mreply\u001b[0m \u001b[0;34m=\u001b[0m \u001b[0mself\u001b[0m\u001b[0;34m.\u001b[0m\u001b[0msession\u001b[0m\u001b[0;34m.\u001b[0m\u001b[0mrecv\u001b[0m\u001b[0;34m(\u001b[0m\u001b[0mself\u001b[0m\u001b[0;34m.\u001b[0m\u001b[0mstdin_socket\u001b[0m\u001b[0;34m,\u001b[0m \u001b[0;36m0\u001b[0m\u001b[0;34m)\u001b[0m\u001b[0;34m\u001b[0m\u001b[0;34m\u001b[0m\u001b[0m\n\u001b[0m\u001b[1;32m    730\u001b[0m             \u001b[0;32mexcept\u001b[0m \u001b[0mException\u001b[0m\u001b[0;34m:\u001b[0m\u001b[0;34m\u001b[0m\u001b[0;34m\u001b[0m\u001b[0m\n",
            "\u001b[0;32m/usr/local/lib/python3.6/dist-packages/jupyter_client/session.py\u001b[0m in \u001b[0;36mrecv\u001b[0;34m(self, socket, mode, content, copy)\u001b[0m\n\u001b[1;32m    802\u001b[0m         \u001b[0;32mtry\u001b[0m\u001b[0;34m:\u001b[0m\u001b[0;34m\u001b[0m\u001b[0;34m\u001b[0m\u001b[0m\n\u001b[0;32m--> 803\u001b[0;31m             \u001b[0mmsg_list\u001b[0m \u001b[0;34m=\u001b[0m \u001b[0msocket\u001b[0m\u001b[0;34m.\u001b[0m\u001b[0mrecv_multipart\u001b[0m\u001b[0;34m(\u001b[0m\u001b[0mmode\u001b[0m\u001b[0;34m,\u001b[0m \u001b[0mcopy\u001b[0m\u001b[0;34m=\u001b[0m\u001b[0mcopy\u001b[0m\u001b[0;34m)\u001b[0m\u001b[0;34m\u001b[0m\u001b[0;34m\u001b[0m\u001b[0m\n\u001b[0m\u001b[1;32m    804\u001b[0m         \u001b[0;32mexcept\u001b[0m \u001b[0mzmq\u001b[0m\u001b[0;34m.\u001b[0m\u001b[0mZMQError\u001b[0m \u001b[0;32mas\u001b[0m \u001b[0me\u001b[0m\u001b[0;34m:\u001b[0m\u001b[0;34m\u001b[0m\u001b[0;34m\u001b[0m\u001b[0m\n",
            "\u001b[0;32m/usr/local/lib/python3.6/dist-packages/zmq/sugar/socket.py\u001b[0m in \u001b[0;36mrecv_multipart\u001b[0;34m(self, flags, copy, track)\u001b[0m\n\u001b[1;32m    490\u001b[0m         \"\"\"\n\u001b[0;32m--> 491\u001b[0;31m         \u001b[0mparts\u001b[0m \u001b[0;34m=\u001b[0m \u001b[0;34m[\u001b[0m\u001b[0mself\u001b[0m\u001b[0;34m.\u001b[0m\u001b[0mrecv\u001b[0m\u001b[0;34m(\u001b[0m\u001b[0mflags\u001b[0m\u001b[0;34m,\u001b[0m \u001b[0mcopy\u001b[0m\u001b[0;34m=\u001b[0m\u001b[0mcopy\u001b[0m\u001b[0;34m,\u001b[0m \u001b[0mtrack\u001b[0m\u001b[0;34m=\u001b[0m\u001b[0mtrack\u001b[0m\u001b[0;34m)\u001b[0m\u001b[0;34m]\u001b[0m\u001b[0;34m\u001b[0m\u001b[0;34m\u001b[0m\u001b[0m\n\u001b[0m\u001b[1;32m    492\u001b[0m         \u001b[0;31m# have first part already, only loop while more to receive\u001b[0m\u001b[0;34m\u001b[0m\u001b[0;34m\u001b[0m\u001b[0;34m\u001b[0m\u001b[0m\n",
            "\u001b[0;32mzmq/backend/cython/socket.pyx\u001b[0m in \u001b[0;36mzmq.backend.cython.socket.Socket.recv\u001b[0;34m()\u001b[0m\n",
            "\u001b[0;32mzmq/backend/cython/socket.pyx\u001b[0m in \u001b[0;36mzmq.backend.cython.socket.Socket.recv\u001b[0;34m()\u001b[0m\n",
            "\u001b[0;32mzmq/backend/cython/socket.pyx\u001b[0m in \u001b[0;36mzmq.backend.cython.socket._recv_copy\u001b[0;34m()\u001b[0m\n",
            "\u001b[0;32m/usr/local/lib/python3.6/dist-packages/zmq/backend/cython/checkrc.pxd\u001b[0m in \u001b[0;36mzmq.backend.cython.checkrc._check_rc\u001b[0;34m()\u001b[0m\n",
            "\u001b[0;31mKeyboardInterrupt\u001b[0m: ",
            "\nDuring handling of the above exception, another exception occurred:\n",
            "\u001b[0;31mKeyboardInterrupt\u001b[0m                         Traceback (most recent call last)",
            "\u001b[0;32m<ipython-input-22-7fbbd59815ff>\u001b[0m in \u001b[0;36m<module>\u001b[0;34m()\u001b[0m\n\u001b[1;32m      5\u001b[0m \u001b[0;32mfrom\u001b[0m \u001b[0moauth2client\u001b[0m\u001b[0;34m.\u001b[0m\u001b[0mclient\u001b[0m \u001b[0;32mimport\u001b[0m \u001b[0mGoogleCredentials\u001b[0m\u001b[0;34m\u001b[0m\u001b[0;34m\u001b[0m\u001b[0m\n\u001b[1;32m      6\u001b[0m \u001b[0;31m# Authenticate and create the PyDrive client.\u001b[0m\u001b[0;34m\u001b[0m\u001b[0;34m\u001b[0m\u001b[0;34m\u001b[0m\u001b[0m\n\u001b[0;32m----> 7\u001b[0;31m \u001b[0mauth\u001b[0m\u001b[0;34m.\u001b[0m\u001b[0mauthenticate_user\u001b[0m\u001b[0;34m(\u001b[0m\u001b[0;34m)\u001b[0m\u001b[0;34m\u001b[0m\u001b[0;34m\u001b[0m\u001b[0m\n\u001b[0m\u001b[1;32m      8\u001b[0m \u001b[0mgauth\u001b[0m \u001b[0;34m=\u001b[0m \u001b[0mGoogleAuth\u001b[0m\u001b[0;34m(\u001b[0m\u001b[0;34m)\u001b[0m\u001b[0;34m\u001b[0m\u001b[0;34m\u001b[0m\u001b[0m\n\u001b[1;32m      9\u001b[0m \u001b[0mgauth\u001b[0m\u001b[0;34m.\u001b[0m\u001b[0mcredentials\u001b[0m \u001b[0;34m=\u001b[0m \u001b[0mGoogleCredentials\u001b[0m\u001b[0;34m.\u001b[0m\u001b[0mget_application_default\u001b[0m\u001b[0;34m(\u001b[0m\u001b[0;34m)\u001b[0m\u001b[0;34m\u001b[0m\u001b[0;34m\u001b[0m\u001b[0m\n",
            "\u001b[0;32m/usr/local/lib/python3.6/dist-packages/google/colab/auth.py\u001b[0m in \u001b[0;36mauthenticate_user\u001b[0;34m(clear_output)\u001b[0m\n\u001b[1;32m    149\u001b[0m     \u001b[0mcontext_manager\u001b[0m \u001b[0;34m=\u001b[0m \u001b[0m_output\u001b[0m\u001b[0;34m.\u001b[0m\u001b[0mtemporary\u001b[0m \u001b[0;32mif\u001b[0m \u001b[0mclear_output\u001b[0m \u001b[0;32melse\u001b[0m \u001b[0m_noop\u001b[0m\u001b[0;34m\u001b[0m\u001b[0;34m\u001b[0m\u001b[0m\n\u001b[1;32m    150\u001b[0m     \u001b[0;32mwith\u001b[0m \u001b[0mcontext_manager\u001b[0m\u001b[0;34m(\u001b[0m\u001b[0;34m)\u001b[0m\u001b[0;34m:\u001b[0m\u001b[0;34m\u001b[0m\u001b[0;34m\u001b[0m\u001b[0m\n\u001b[0;32m--> 151\u001b[0;31m       \u001b[0m_gcloud_login\u001b[0m\u001b[0;34m(\u001b[0m\u001b[0;34m)\u001b[0m\u001b[0;34m\u001b[0m\u001b[0;34m\u001b[0m\u001b[0m\n\u001b[0m\u001b[1;32m    152\u001b[0m     \u001b[0m_install_adc\u001b[0m\u001b[0;34m(\u001b[0m\u001b[0;34m)\u001b[0m\u001b[0;34m\u001b[0m\u001b[0;34m\u001b[0m\u001b[0m\n\u001b[1;32m    153\u001b[0m     \u001b[0mcolab_tpu_addr\u001b[0m \u001b[0;34m=\u001b[0m \u001b[0m_os\u001b[0m\u001b[0;34m.\u001b[0m\u001b[0menviron\u001b[0m\u001b[0;34m.\u001b[0m\u001b[0mget\u001b[0m\u001b[0;34m(\u001b[0m\u001b[0;34m'COLAB_TPU_ADDR'\u001b[0m\u001b[0;34m,\u001b[0m \u001b[0;34m''\u001b[0m\u001b[0;34m)\u001b[0m\u001b[0;34m\u001b[0m\u001b[0;34m\u001b[0m\u001b[0m\n",
            "\u001b[0;32m/usr/local/lib/python3.6/dist-packages/google/colab/auth.py\u001b[0m in \u001b[0;36m_gcloud_login\u001b[0;34m()\u001b[0m\n\u001b[1;32m     93\u001b[0m     \u001b[0;31m# https://github.com/jupyter/notebook/issues/3159\u001b[0m\u001b[0;34m\u001b[0m\u001b[0;34m\u001b[0m\u001b[0;34m\u001b[0m\u001b[0m\n\u001b[1;32m     94\u001b[0m     \u001b[0mprompt\u001b[0m \u001b[0;34m=\u001b[0m \u001b[0mprompt\u001b[0m\u001b[0;34m.\u001b[0m\u001b[0mrstrip\u001b[0m\u001b[0;34m(\u001b[0m\u001b[0;34m)\u001b[0m\u001b[0;34m\u001b[0m\u001b[0;34m\u001b[0m\u001b[0m\n\u001b[0;32m---> 95\u001b[0;31m     \u001b[0mcode\u001b[0m \u001b[0;34m=\u001b[0m \u001b[0mget_code\u001b[0m\u001b[0;34m(\u001b[0m\u001b[0mprompt\u001b[0m \u001b[0;34m+\u001b[0m \u001b[0;34m' '\u001b[0m\u001b[0;34m)\u001b[0m\u001b[0;34m\u001b[0m\u001b[0;34m\u001b[0m\u001b[0m\n\u001b[0m\u001b[1;32m     96\u001b[0m     \u001b[0mgcloud_process\u001b[0m\u001b[0;34m.\u001b[0m\u001b[0mcommunicate\u001b[0m\u001b[0;34m(\u001b[0m\u001b[0mcode\u001b[0m\u001b[0;34m.\u001b[0m\u001b[0mstrip\u001b[0m\u001b[0;34m(\u001b[0m\u001b[0;34m)\u001b[0m\u001b[0;34m)\u001b[0m\u001b[0;34m\u001b[0m\u001b[0;34m\u001b[0m\u001b[0m\n\u001b[1;32m     97\u001b[0m   \u001b[0;32mfinally\u001b[0m\u001b[0;34m:\u001b[0m\u001b[0;34m\u001b[0m\u001b[0;34m\u001b[0m\u001b[0m\n",
            "\u001b[0;32m/usr/local/lib/python3.6/dist-packages/ipykernel/kernelbase.py\u001b[0m in \u001b[0;36mraw_input\u001b[0;34m(self, prompt)\u001b[0m\n\u001b[1;32m    702\u001b[0m             \u001b[0mself\u001b[0m\u001b[0;34m.\u001b[0m\u001b[0m_parent_ident\u001b[0m\u001b[0;34m,\u001b[0m\u001b[0;34m\u001b[0m\u001b[0;34m\u001b[0m\u001b[0m\n\u001b[1;32m    703\u001b[0m             \u001b[0mself\u001b[0m\u001b[0;34m.\u001b[0m\u001b[0m_parent_header\u001b[0m\u001b[0;34m,\u001b[0m\u001b[0;34m\u001b[0m\u001b[0;34m\u001b[0m\u001b[0m\n\u001b[0;32m--> 704\u001b[0;31m             \u001b[0mpassword\u001b[0m\u001b[0;34m=\u001b[0m\u001b[0;32mFalse\u001b[0m\u001b[0;34m,\u001b[0m\u001b[0;34m\u001b[0m\u001b[0;34m\u001b[0m\u001b[0m\n\u001b[0m\u001b[1;32m    705\u001b[0m         )\n\u001b[1;32m    706\u001b[0m \u001b[0;34m\u001b[0m\u001b[0m\n",
            "\u001b[0;32m/usr/local/lib/python3.6/dist-packages/ipykernel/kernelbase.py\u001b[0m in \u001b[0;36m_input_request\u001b[0;34m(self, prompt, ident, parent, password)\u001b[0m\n\u001b[1;32m    732\u001b[0m             \u001b[0;32mexcept\u001b[0m \u001b[0mKeyboardInterrupt\u001b[0m\u001b[0;34m:\u001b[0m\u001b[0;34m\u001b[0m\u001b[0;34m\u001b[0m\u001b[0m\n\u001b[1;32m    733\u001b[0m                 \u001b[0;31m# re-raise KeyboardInterrupt, to truncate traceback\u001b[0m\u001b[0;34m\u001b[0m\u001b[0;34m\u001b[0m\u001b[0;34m\u001b[0m\u001b[0m\n\u001b[0;32m--> 734\u001b[0;31m                 \u001b[0;32mraise\u001b[0m \u001b[0mKeyboardInterrupt\u001b[0m\u001b[0;34m\u001b[0m\u001b[0;34m\u001b[0m\u001b[0m\n\u001b[0m\u001b[1;32m    735\u001b[0m             \u001b[0;32melse\u001b[0m\u001b[0;34m:\u001b[0m\u001b[0;34m\u001b[0m\u001b[0;34m\u001b[0m\u001b[0m\n\u001b[1;32m    736\u001b[0m                 \u001b[0;32mbreak\u001b[0m\u001b[0;34m\u001b[0m\u001b[0;34m\u001b[0m\u001b[0m\n",
            "\u001b[0;31mKeyboardInterrupt\u001b[0m: "
          ]
        }
      ]
    },
    {
      "cell_type": "code",
      "metadata": {
        "id": "HtV6G0gRAbkF",
        "colab": {
          "base_uri": "https://localhost:8080/",
          "height": 540
        },
        "outputId": "84eab268-b275-4e8d-f386-d6b1a3ca02f7"
      },
      "source": [
        "# import matplotlib.pyplot as plt\n",
        "# plt.figure(figsize=(15,5))\n",
        "# plt.plot(label_emb_list_val,'blue',label='True')\n",
        "# plt.plot(ot,'red',label='Prediction')\n",
        "# plt.legend()\n",
        "# plt.show()"
      ],
      "execution_count": null,
      "outputs": [
        {
          "output_type": "error",
          "ename": "NameError",
          "evalue": "ignored",
          "traceback": [
            "\u001b[0;31m---------------------------------------------------------------------------\u001b[0m",
            "\u001b[0;31mNameError\u001b[0m                                 Traceback (most recent call last)",
            "\u001b[0;32m<ipython-input-23-3ffb5f625147>\u001b[0m in \u001b[0;36m<module>\u001b[0;34m()\u001b[0m\n\u001b[1;32m      2\u001b[0m \u001b[0mplt\u001b[0m\u001b[0;34m.\u001b[0m\u001b[0mfigure\u001b[0m\u001b[0;34m(\u001b[0m\u001b[0mfigsize\u001b[0m\u001b[0;34m=\u001b[0m\u001b[0;34m(\u001b[0m\u001b[0;36m15\u001b[0m\u001b[0;34m,\u001b[0m\u001b[0;36m5\u001b[0m\u001b[0;34m)\u001b[0m\u001b[0;34m)\u001b[0m\u001b[0;34m\u001b[0m\u001b[0;34m\u001b[0m\u001b[0m\n\u001b[1;32m      3\u001b[0m \u001b[0mplt\u001b[0m\u001b[0;34m.\u001b[0m\u001b[0mplot\u001b[0m\u001b[0;34m(\u001b[0m\u001b[0mlabel_emb_list_val\u001b[0m\u001b[0;34m,\u001b[0m\u001b[0;34m'blue'\u001b[0m\u001b[0;34m,\u001b[0m\u001b[0mlabel\u001b[0m\u001b[0;34m=\u001b[0m\u001b[0;34m'True'\u001b[0m\u001b[0;34m)\u001b[0m\u001b[0;34m\u001b[0m\u001b[0;34m\u001b[0m\u001b[0m\n\u001b[0;32m----> 4\u001b[0;31m \u001b[0mplt\u001b[0m\u001b[0;34m.\u001b[0m\u001b[0mplot\u001b[0m\u001b[0;34m(\u001b[0m\u001b[0mot\u001b[0m\u001b[0;34m,\u001b[0m\u001b[0;34m'red'\u001b[0m\u001b[0;34m,\u001b[0m\u001b[0mlabel\u001b[0m\u001b[0;34m=\u001b[0m\u001b[0;34m'Prediction'\u001b[0m\u001b[0;34m)\u001b[0m\u001b[0;34m\u001b[0m\u001b[0;34m\u001b[0m\u001b[0m\n\u001b[0m\u001b[1;32m      5\u001b[0m \u001b[0mplt\u001b[0m\u001b[0;34m.\u001b[0m\u001b[0mlegend\u001b[0m\u001b[0;34m(\u001b[0m\u001b[0;34m)\u001b[0m\u001b[0;34m\u001b[0m\u001b[0;34m\u001b[0m\u001b[0m\n\u001b[1;32m      6\u001b[0m \u001b[0mplt\u001b[0m\u001b[0;34m.\u001b[0m\u001b[0mshow\u001b[0m\u001b[0;34m(\u001b[0m\u001b[0;34m)\u001b[0m\u001b[0;34m\u001b[0m\u001b[0;34m\u001b[0m\u001b[0m\n",
            "\u001b[0;31mNameError\u001b[0m: name 'ot' is not defined"
          ]
        },
        {
          "output_type": "display_data",
          "data": {
            "image/png": "[encoded data removed]",
            "text/plain": [
              "<Figure size 1080x360 with 1 Axes>"
            ]
          },
          "metadata": {
            "tags": [],
            "needs_background": "light"
          }
        }
      ]
    },
    {
      "cell_type": "code",
      "metadata": {
        "id": "TlHWmbiv6y2-",
        "colab": {
          "base_uri": "https://localhost:8080/",
          "height": 303
        },
        "outputId": "9685d8bb-ec95-42de-d8a2-7eb295440bc4"
      },
      "source": [
        "plt.figure(figsize=(20,5))\n",
        "plt.plot(target_batch_torch,'blue',label='True')\n",
        "plt.plot(train_after_train,'red',label='Prediction')\n",
        "\n",
        "plt.title('USD-JPY',fontsize=  '30')\n",
        "plt.legend(loc=\"upper left\")"
      ],
      "execution_count": null,
      "outputs": [
        {
          "output_type": "execute_result",
          "data": {
            "text/plain": [
              "<matplotlib.legend.Legend at 0x7f26a6b4cfd0>"
            ]
          },
          "metadata": {
            "tags": []
          },
          "execution_count": 32
        },
        {
          "output_type": "display_data",
          "data": {
            "image/png": "[encoded data removed]",
            "text/plain": [
              "<Figure size 1440x360 with 1 Axes>"
            ]
          },
          "metadata": {
            "tags": [],
            "needs_background": "light"
          }
        }
      ]
    },
    {
      "cell_type": "code",
      "metadata": {
        "id": "zxod1eYbobqx",
        "colab": {
          "base_uri": "https://localhost:8080/",
          "height": 303
        },
        "outputId": "00f684a3-8d9a-4d46-de1a-dbf4af4a8668"
      },
      "source": [
        "plt.figure(figsize=(20,5))\n",
        "plt.plot(mape_list_train,'blue',label='Train')\n",
        "plt.plot(mape_list_test,'red',label='Test')\n",
        "\n",
        "plt.title('MAPE',fontsize=  '30')\n",
        "plt.legend(loc=\"upper left\")"
      ],
      "execution_count": null,
      "outputs": [
        {
          "output_type": "execute_result",
          "data": {
            "text/plain": [
              "<matplotlib.legend.Legend at 0x7f26a7dd2eb8>"
            ]
          },
          "metadata": {
            "tags": []
          },
          "execution_count": 33
        },
        {
          "output_type": "display_data",
          "data": {
            "image/png": "[encoded data removed]",
            "text/plain": [
              "<Figure size 1440x360 with 1 Axes>"
            ]
          },
          "metadata": {
            "tags": [],
            "needs_background": "light"
          }
        }
      ]
    },
    {
      "cell_type": "code",
      "metadata": {
        "id": "asdwzCiQopsB",
        "colab": {
          "base_uri": "https://localhost:8080/",
          "height": 299
        },
        "outputId": "cff61d0a-64be-4f02-8278-9938ba24bbb6"
      },
      "source": [
        "plt.figure(figsize=(20,5))\n",
        "plt.plot(correlation_list_train,'blue',label='Train')\n",
        "plt.plot(correlation_list_test,'red',label='Test')\n",
        "\n",
        "plt.title('R',fontsize=  '30')\n",
        "plt.legend(loc=\"upper left\")"
      ],
      "execution_count": null,
      "outputs": [
        {
          "output_type": "execute_result",
          "data": {
            "text/plain": [
              "<matplotlib.legend.Legend at 0x7f26a7e5f320>"
            ]
          },
          "metadata": {
            "tags": []
          },
          "execution_count": 34
        },
        {
          "output_type": "display_data",
          "data": {
            "image/png": "[encoded data removed]",
            "text/plain": [
              "<Figure size 1440x360 with 1 Axes>"
            ]
          },
          "metadata": {
            "tags": [],
            "needs_background": "light"
          }
        }
      ]
    },
    {
      "cell_type": "code",
      "metadata": {
        "id": "BFbe_wDmo2mi",
        "colab": {
          "base_uri": "https://localhost:8080/",
          "height": 304
        },
        "outputId": "0dc83899-9d6c-4ee5-aba2-a09bab5315b3"
      },
      "source": [
        "plt.figure(figsize=(20,5))\n",
        "plt.plot(Theil_U_list_train,'blue',label='Train')\n",
        "plt.plot(Theil_U_list_test,'red',label='Test')\n",
        "\n",
        "plt.title('Theil_U',fontsize=  '30')\n",
        "plt.legend(loc=\"upper left\")"
      ],
      "execution_count": null,
      "outputs": [
        {
          "output_type": "execute_result",
          "data": {
            "text/plain": [
              "<matplotlib.legend.Legend at 0x7f26a646cf28>"
            ]
          },
          "metadata": {
            "tags": []
          },
          "execution_count": 35
        },
        {
          "output_type": "display_data",
          "data": {
            "image/png": "[encoded data removed]",
            "text/plain": [
              "<Figure size 1440x360 with 1 Axes>"
            ]
          },
          "metadata": {
            "tags": [],
            "needs_background": "light"
          }
        }
      ]
    },
    {
      "cell_type": "code",
      "metadata": {
        "id": "BuJZyIuno_Au",
        "colab": {
          "base_uri": "https://localhost:8080/"
        },
        "outputId": "b1591ef2-a6a8-4bb6-c770-51e5b1c28ffd"
      },
      "source": [
        "print('Mape:%.5f, R:%.5f, Theil_U:%.5f'%(mape_list_test[-1],correlation_list_test[-1],Theil_U_list_test[-1]))"
      ],
      "execution_count": null,
      "outputs": [
        {
          "output_type": "stream",
          "text": [
            "Mape:0.00370, R:0.99648, Theil_U:0.00203\n"
          ],
          "name": "stdout"
        }
      ]
    },
    {
      "cell_type": "code",
      "metadata": {
        "id": "kKNmxyXxLVre"
      },
      "source": [
        "torch.save(net_bilstm,'bilstm+attention.pt')\n",
        "\n"
      ],
      "execution_count": null,
      "outputs": []
    },
    {
      "cell_type": "code",
      "metadata": {
        "id": "AGjZgWfDQ_JF",
        "colab": {
          "base_uri": "https://localhost:8080/"
        },
        "outputId": "6d8ea460-de40-475e-f297-1e474a77ccf3"
      },
      "source": [
        "name=['close']\n",
        "test=pd.DataFrame(columns=name,data=test_after_train)\n",
        "print(test)\n",
        "test.to_csv('./backtesting_attention_EUR_USD.csv',encoding='gbk')"
      ],
      "execution_count": null,
      "outputs": [
        {
          "output_type": "stream",
          "text": [
            "         close\n",
            "0     1.161756\n",
            "1     1.161368\n",
            "2     1.163912\n",
            "3     1.162428\n",
            "4     1.163180\n",
            "...        ...\n",
            "3418  1.194076\n",
            "3419  1.192987\n",
            "3420  1.194368\n",
            "3421  1.197450\n",
            "3422  1.198629\n",
            "\n",
            "[3423 rows x 1 columns]\n"
          ],
          "name": "stdout"
        }
      ]
    },
    {
      "cell_type": "code",
      "metadata": {
        "id": "ECjycaQ24HWd",
        "colab": {
          "base_uri": "https://localhost:8080/"
        },
        "outputId": "07803afb-8e97-4631-d452-c83baedcdbf5"
      },
      "source": [
        "print(mape_list_test.index(min(mape_list_test)))\n",
        "print(Theil_U_list_test.index(min(Theil_U_list_test)))\n",
        "print(correlation_list_test.index(max(correlation_list_test)))"
      ],
      "execution_count": null,
      "outputs": [
        {
          "output_type": "stream",
          "text": [
            "64\n",
            "499\n",
            "498\n"
          ],
          "name": "stdout"
        }
      ]
    }
  ]
}