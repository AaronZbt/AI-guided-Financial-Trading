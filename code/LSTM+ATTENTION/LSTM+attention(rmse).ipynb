{
  "nbformat": 4,
  "nbformat_minor": 0,
  "metadata": {
    "colab": {
      "name": "LSTM+attention(rmse).ipynb",
      "provenance": [],
      "collapsed_sections": []
    },
    "kernelspec": {
      "display_name": "Python 3",
      "name": "python3"
    }
  },
  "cells": [
    {
      "cell_type": "code",
      "metadata": {
        "id": "sVrnCd-XwDvM"
      },
      "source": [
        "# # Code to download file into Colaboratory:\n",
        "# !pip install -U -q PyDrive\n",
        "# from pydrive.auth import GoogleAuth\n",
        "# from pydrive.drive import GoogleDrive\n",
        "# from google.colab import auth\n",
        "# from oauth2client.client import GoogleCredentials\n",
        "# # Authenticate and create the PyDrive client.\n",
        "# auth.authenticate_user()\n",
        "# gauth = GoogleAuth()\n",
        "# gauth.credentials = GoogleCredentials.get_application_default()\n",
        "# drive = GoogleDrive(gauth)\n",
        "\n",
        "# id = '1EnI1mSQcaCQWCkR8kJgRy7610EOyxv0n'\n",
        "# downloaded = drive.CreateFile({'id':id}) \n",
        "# downloaded.GetContentFile('data.csv')"
      ],
      "execution_count": 1,
      "outputs": []
    },
    {
      "cell_type": "code",
      "metadata": {
        "colab": {
          "base_uri": "https://localhost:8080/"
        },
        "id": "yORLbufN8vqs",
        "outputId": "98fa5afe-489d-47b1-e493-a1697bfbc9e8"
      },
      "source": [
        "import pandas as pd\n",
        "import numpy as np\n",
        "data = pd.read_csv(\"data.csv\")\n",
        "data = data.dropna()\n",
        "data_bt = data.drop(columns = ['Unnamed: 0'])\n",
        "data = data.drop(columns = ['Unnamed: 0','datetime'] )\n",
        "all_data = data.values\n",
        "print(all_data)"
      ],
      "execution_count": 2,
      "outputs": [
        {
          "output_type": "stream",
          "text": [
            "[[1.42712000e+00 1.43089000e+00 1.42708000e+00 1.43012000e+00\n",
            "  2.83600000e+03 1.00000000e+00]\n",
            " [1.43010000e+00 1.43964000e+00 1.42694000e+00 1.43948000e+00\n",
            "  9.02000000e+03 1.00654490e+00]\n",
            " [1.43946000e+00 1.44334000e+00 1.43750000e+00 1.44218000e+00\n",
            "  9.59300000e+03 1.00187568e+00]\n",
            " ...\n",
            " [1.19082000e+00 1.19405000e+00 1.19080000e+00 1.19341000e+00\n",
            "  2.41070000e+04 1.00219180e+00]\n",
            " [1.19342000e+00 1.19660000e+00 1.19217000e+00 1.19442000e+00\n",
            "  3.62210000e+04 1.00084631e+00]\n",
            " [1.19444000e+00 1.19503000e+00 1.19259000e+00 1.19362000e+00\n",
            "  1.35860000e+04 9.99330219e-01]]\n"
          ],
          "name": "stdout"
        }
      ]
    },
    {
      "cell_type": "code",
      "metadata": {
        "colab": {
          "base_uri": "https://localhost:8080/",
          "height": 419
        },
        "id": "ZBrw0R7M2-ox",
        "outputId": "b0b5a878-e706-4710-e568-5b7b490bb78c"
      },
      "source": [
        "data_bt"
      ],
      "execution_count": 3,
      "outputs": [
        {
          "output_type": "execute_result",
          "data": {
            "text/html": [
              "<div>\n",
              "<style scoped>\n",
              "    .dataframe tbody tr th:only-of-type {\n",
              "        vertical-align: middle;\n",
              "    }\n",
              "\n",
              "    .dataframe tbody tr th {\n",
              "        vertical-align: top;\n",
              "    }\n",
              "\n",
              "    .dataframe thead th {\n",
              "        text-align: right;\n",
              "    }\n",
              "</style>\n",
              "<table border=\"1\" class=\"dataframe\">\n",
              "  <thead>\n",
              "    <tr style=\"text-align: right;\">\n",
              "      <th></th>\n",
              "      <th>datetime</th>\n",
              "      <th>open</th>\n",
              "      <th>high</th>\n",
              "      <th>low</th>\n",
              "      <th>close</th>\n",
              "      <th>volume</th>\n",
              "      <th>ratio</th>\n",
              "    </tr>\n",
              "  </thead>\n",
              "  <tbody>\n",
              "    <tr>\n",
              "      <th>0</th>\n",
              "      <td>2010-01-04T02:00:00.000000000Z</td>\n",
              "      <td>1.42712</td>\n",
              "      <td>1.43089</td>\n",
              "      <td>1.42708</td>\n",
              "      <td>1.43012</td>\n",
              "      <td>2836</td>\n",
              "      <td>1.000000</td>\n",
              "    </tr>\n",
              "    <tr>\n",
              "      <th>1</th>\n",
              "      <td>2010-01-04T06:00:00.000000000Z</td>\n",
              "      <td>1.43010</td>\n",
              "      <td>1.43964</td>\n",
              "      <td>1.42694</td>\n",
              "      <td>1.43948</td>\n",
              "      <td>9020</td>\n",
              "      <td>1.006545</td>\n",
              "    </tr>\n",
              "    <tr>\n",
              "      <th>2</th>\n",
              "      <td>2010-01-04T10:00:00.000000000Z</td>\n",
              "      <td>1.43946</td>\n",
              "      <td>1.44334</td>\n",
              "      <td>1.43750</td>\n",
              "      <td>1.44218</td>\n",
              "      <td>9593</td>\n",
              "      <td>1.001876</td>\n",
              "    </tr>\n",
              "    <tr>\n",
              "      <th>3</th>\n",
              "      <td>2010-01-04T14:00:00.000000000Z</td>\n",
              "      <td>1.44220</td>\n",
              "      <td>1.44560</td>\n",
              "      <td>1.44038</td>\n",
              "      <td>1.44152</td>\n",
              "      <td>10869</td>\n",
              "      <td>0.999542</td>\n",
              "    </tr>\n",
              "    <tr>\n",
              "      <th>4</th>\n",
              "      <td>2010-01-04T18:00:00.000000000Z</td>\n",
              "      <td>1.44150</td>\n",
              "      <td>1.44282</td>\n",
              "      <td>1.44041</td>\n",
              "      <td>1.44127</td>\n",
              "      <td>3719</td>\n",
              "      <td>0.999827</td>\n",
              "    </tr>\n",
              "    <tr>\n",
              "      <th>...</th>\n",
              "      <td>...</td>\n",
              "      <td>...</td>\n",
              "      <td>...</td>\n",
              "      <td>...</td>\n",
              "      <td>...</td>\n",
              "      <td>...</td>\n",
              "      <td>...</td>\n",
              "    </tr>\n",
              "    <tr>\n",
              "      <th>17334</th>\n",
              "      <td>2020-08-31T01:00:00.000000000Z</td>\n",
              "      <td>1.19082</td>\n",
              "      <td>1.19176</td>\n",
              "      <td>1.18969</td>\n",
              "      <td>1.19012</td>\n",
              "      <td>8670</td>\n",
              "      <td>0.999429</td>\n",
              "    </tr>\n",
              "    <tr>\n",
              "      <th>17335</th>\n",
              "      <td>2020-08-31T05:00:00.000000000Z</td>\n",
              "      <td>1.19011</td>\n",
              "      <td>1.19120</td>\n",
              "      <td>1.18841</td>\n",
              "      <td>1.19080</td>\n",
              "      <td>23629</td>\n",
              "      <td>1.000571</td>\n",
              "    </tr>\n",
              "    <tr>\n",
              "      <th>17336</th>\n",
              "      <td>2020-08-31T09:00:00.000000000Z</td>\n",
              "      <td>1.19082</td>\n",
              "      <td>1.19405</td>\n",
              "      <td>1.19080</td>\n",
              "      <td>1.19341</td>\n",
              "      <td>24107</td>\n",
              "      <td>1.002192</td>\n",
              "    </tr>\n",
              "    <tr>\n",
              "      <th>17337</th>\n",
              "      <td>2020-08-31T13:00:00.000000000Z</td>\n",
              "      <td>1.19342</td>\n",
              "      <td>1.19660</td>\n",
              "      <td>1.19217</td>\n",
              "      <td>1.19442</td>\n",
              "      <td>36221</td>\n",
              "      <td>1.000846</td>\n",
              "    </tr>\n",
              "    <tr>\n",
              "      <th>17338</th>\n",
              "      <td>2020-08-31T17:00:00.000000000Z</td>\n",
              "      <td>1.19444</td>\n",
              "      <td>1.19503</td>\n",
              "      <td>1.19259</td>\n",
              "      <td>1.19362</td>\n",
              "      <td>13586</td>\n",
              "      <td>0.999330</td>\n",
              "    </tr>\n",
              "  </tbody>\n",
              "</table>\n",
              "<p>17339 rows × 7 columns</p>\n",
              "</div>"
            ],
            "text/plain": [
              "                             datetime     open  ...  volume     ratio\n",
              "0      2010-01-04T02:00:00.000000000Z  1.42712  ...    2836  1.000000\n",
              "1      2010-01-04T06:00:00.000000000Z  1.43010  ...    9020  1.006545\n",
              "2      2010-01-04T10:00:00.000000000Z  1.43946  ...    9593  1.001876\n",
              "3      2010-01-04T14:00:00.000000000Z  1.44220  ...   10869  0.999542\n",
              "4      2010-01-04T18:00:00.000000000Z  1.44150  ...    3719  0.999827\n",
              "...                               ...      ...  ...     ...       ...\n",
              "17334  2020-08-31T01:00:00.000000000Z  1.19082  ...    8670  0.999429\n",
              "17335  2020-08-31T05:00:00.000000000Z  1.19011  ...   23629  1.000571\n",
              "17336  2020-08-31T09:00:00.000000000Z  1.19082  ...   24107  1.002192\n",
              "17337  2020-08-31T13:00:00.000000000Z  1.19342  ...   36221  1.000846\n",
              "17338  2020-08-31T17:00:00.000000000Z  1.19444  ...   13586  0.999330\n",
              "\n",
              "[17339 rows x 7 columns]"
            ]
          },
          "metadata": {
            "tags": []
          },
          "execution_count": 3
        }
      ]
    },
    {
      "cell_type": "code",
      "metadata": {
        "id": "eIGTuPyC4UhK"
      },
      "source": [
        "def maxminnorm(array):\n",
        "    maxcols=array.max(axis=0)\n",
        "    print(maxcols)\n",
        "    mincols=array.min(axis=0)\n",
        "    data_shape = array.shape\n",
        "    data_rows = data_shape[0]\n",
        "    data_cols = data_shape[1]\n",
        "    t=np.empty((data_rows,data_cols))\n",
        "    for i in range(data_cols):\n",
        "        t[:,i]=(array[:,i]-mincols[i])/(maxcols[i]-mincols[i])\n",
        "    return t"
      ],
      "execution_count": 4,
      "outputs": []
    },
    {
      "cell_type": "code",
      "metadata": {
        "colab": {
          "base_uri": "https://localhost:8080/"
        },
        "id": "QfIlOJVA4b7h",
        "outputId": "ee0fb471-c22f-4f6b-bc09-311e7bb4d5b0"
      },
      "source": [
        "all_data = maxminnorm(all_data)"
      ],
      "execution_count": 5,
      "outputs": [
        {
          "output_type": "stream",
          "text": [
            "[1.49191000e+00 1.49402000e+00 1.48506000e+00 1.49189000e+00\n",
            " 1.07306000e+05 1.02505449e+00]\n"
          ],
          "name": "stdout"
        }
      ]
    },
    {
      "cell_type": "code",
      "metadata": {
        "colab": {
          "base_uri": "https://localhost:8080/"
        },
        "id": "YwnkE4wzKYqj",
        "outputId": "a4ee4ca0-29da-4f32-d764-4aafff8c6e94"
      },
      "source": [
        "from sklearn import preprocessing\n",
        "all_data = preprocessing.scale(all_data)\n",
        "#check mean=0, std=1\n",
        "#all_data.mean(axis = 0)\n",
        "#all_data.std(axis = 0)\n",
        "all_data.shape"
      ],
      "execution_count": 6,
      "outputs": [
        {
          "output_type": "execute_result",
          "data": {
            "text/plain": [
              "(17339, 6)"
            ]
          },
          "metadata": {
            "tags": []
          },
          "execution_count": 6
        }
      ]
    },
    {
      "cell_type": "code",
      "metadata": {
        "id": "cAuUdNZ0LUoB"
      },
      "source": [
        "# from sklearn.decomposition import PCA\n",
        "\n",
        "# pca = PCA(n_components='mle',random_state=450175583) #auto select number of dimensions  \n",
        "# pca.fit(all_data)                  \n",
        "# all_data=pca.fit_transform(all_data)   \n",
        "# print(all_data) "
      ],
      "execution_count": 7,
      "outputs": []
    },
    {
      "cell_type": "code",
      "metadata": {
        "id": "-IQQNiD8DKSu"
      },
      "source": [
        "def input_emb(original_data,seq):\n",
        "    emb_list = []\n",
        "    for i in range(0,len(original_data)-seq):\n",
        "        temp = []\n",
        "        for j in range(i,i+seq):\n",
        "            temp.append(original_data[j])\n",
        "        emb_list.append(temp)\n",
        "    return emb_list\n",
        "\n",
        "def label_emb(original_label,seq):\n",
        "    emb_list = []\n",
        "    for i in range(seq,len(original_label)):\n",
        "        emb_list.append(original_label[i])\n",
        "    return emb_list"
      ],
      "execution_count": 8,
      "outputs": []
    },
    {
      "cell_type": "code",
      "metadata": {
        "id": "x2nw6OtFx3Bn"
      },
      "source": [
        "def sp(data,co):\n",
        "  a = int(len(data)*co)\n",
        "  train = data[0:a]\n",
        "  test = data[a+1:]\n",
        "  return train,test"
      ],
      "execution_count": 9,
      "outputs": []
    },
    {
      "cell_type": "code",
      "metadata": {
        "id": "nyExz5emypH6"
      },
      "source": [
        "X_train,X_test = sp(all_data.tolist(),0.8)"
      ],
      "execution_count": 10,
      "outputs": []
    },
    {
      "cell_type": "code",
      "metadata": {
        "id": "hMxTzbd2zgw6"
      },
      "source": [
        "y_data = data_bt['close'].values\n",
        "date_time_list = data_bt['datetime'].values\n",
        "open_list = data_bt['open'].values\n",
        "high_list = data_bt['high'].values\n",
        "low_list = data_bt['low'].values\n",
        "y_train,y_test = sp(y_data.tolist(),0.8)\n",
        "\n",
        "_,data_time = sp(date_time_list.tolist(),0.8)\n",
        "_,open_data = sp(open_list.tolist(),0.8)\n",
        "_,high_data = sp(high_list.tolist(),0.8)\n",
        "_,low_data = sp(low_list.tolist(),0.8)"
      ],
      "execution_count": 11,
      "outputs": []
    },
    {
      "cell_type": "code",
      "metadata": {
        "colab": {
          "base_uri": "https://localhost:8080/"
        },
        "id": "A-2YobRqwhuT",
        "outputId": "e996ff72-cdf0-4ef7-ce9a-ee0d32e6d5c7"
      },
      "source": [
        "test=pd.DataFrame(data=X_test)\n",
        "test['datetime'] = None\n",
        "test['open'] = None\n",
        "test['low'] = None\n",
        "test['high'] = None\n",
        "test['close'] = None\n",
        "test.loc[:,'datetime'] = data_time\n",
        "test.loc[:,'open'] = open_data\n",
        "test.loc[:,'high'] = high_data\n",
        "test.loc[:,'low'] = low_data\n",
        "test.loc[:,'close'] = y_test\n",
        "print(test)\n",
        "test.to_csv('/content/for_backtesting_EUR_USD.csv')"
      ],
      "execution_count": 12,
      "outputs": [
        {
          "output_type": "stream",
          "text": [
            "             0         1         2  ...      low     high    close\n",
            "0    -0.429849 -0.441592 -0.455608  ...  1.17590  1.18104  1.17642\n",
            "1    -0.466529 -0.474940 -0.483342  ...  1.17270  1.17718  1.17482\n",
            "2    -0.479678 -0.469497 -0.471555  ...  1.17406  1.17781  1.17726\n",
            "3    -0.458829 -0.470015 -0.451014  ...  1.17643  1.17775  1.17690\n",
            "4    -0.456667 -0.450577 -0.445207  ...  1.17710  1.18000  1.17980\n",
            "...        ...       ...       ...  ...      ...      ...      ...\n",
            "3462 -0.341609 -0.348980 -0.336089  ...  1.18969  1.19176  1.19012\n",
            "3463 -0.347751 -0.353818 -0.347182  ...  1.18841  1.19120  1.19080\n",
            "3464 -0.341609 -0.329196 -0.326468  ...  1.19080  1.19405  1.19341\n",
            "3465 -0.319117 -0.307166 -0.314594  ...  1.19217  1.19660  1.19442\n",
            "3466 -0.310293 -0.320729 -0.310954  ...  1.19259  1.19503  1.19362\n",
            "\n",
            "[3467 rows x 11 columns]\n"
          ],
          "name": "stdout"
        }
      ]
    },
    {
      "cell_type": "code",
      "metadata": {
        "colab": {
          "base_uri": "https://localhost:8080/"
        },
        "id": "TsTnZSy6y7yx",
        "outputId": "d9476155-2cbf-4919-f02b-d7da6a6994d8"
      },
      "source": [
        "np.array(X_train).shape"
      ],
      "execution_count": 13,
      "outputs": [
        {
          "output_type": "execute_result",
          "data": {
            "text/plain": [
              "(13871, 6)"
            ]
          },
          "metadata": {
            "tags": []
          },
          "execution_count": 13
        }
      ]
    },
    {
      "cell_type": "code",
      "metadata": {
        "colab": {
          "base_uri": "https://localhost:8080/"
        },
        "id": "ECqz_PtLMGZH",
        "outputId": "281facea-4b17-4f9f-99fe-3f0f9fc8b05c"
      },
      "source": [
        "import torch\n",
        "import torch.nn as nn\n",
        "import torch.nn.functional as F\n",
        "from sklearn.metrics import accuracy_score\n",
        "import torch.optim as optim\n",
        "sequence = 7\n",
        "input_emb_list_train = input_emb(X_train,sequence)\n",
        "input_emb_list_val = input_emb(X_test,sequence)\n",
        "label_emb_list_train = label_emb(y_train,sequence)\n",
        "label_emb_list_val = label_emb(y_test,sequence)\n",
        "input_batch_torch = torch.from_numpy(np.array(input_emb_list_train)).float()\n",
        "target_batch_torch = torch.from_numpy(np.array(label_emb_list_train)).view(-1).float()\n",
        "val_input = torch.from_numpy(np.array(input_emb_list_val)).float()\n",
        "\n",
        "val_target =torch.from_numpy(np.array(label_emb_list_val)).view(-1).float()\n",
        "print(target_batch_torch.numpy().shape)\n",
        "type(input_batch_torch)"
      ],
      "execution_count": 14,
      "outputs": [
        {
          "output_type": "stream",
          "text": [
            "(13864,)\n"
          ],
          "name": "stdout"
        },
        {
          "output_type": "execute_result",
          "data": {
            "text/plain": [
              "torch.Tensor"
            ]
          },
          "metadata": {
            "tags": []
          },
          "execution_count": 14
        }
      ]
    },
    {
      "cell_type": "code",
      "metadata": {
        "id": "rbtZZrliARys"
      },
      "source": [
        "n_input = 6\n",
        "n_hidden = 50\n",
        "n_class = 1\n",
        "total_epoch = 500\n",
        "learning_rate = 0.005"
      ],
      "execution_count": 15,
      "outputs": []
    },
    {
      "cell_type": "code",
      "metadata": {
        "colab": {
          "base_uri": "https://localhost:8080/"
        },
        "id": "jPo4ANhTAV1T",
        "outputId": "7873ebc7-8311-4269-985d-b82b90c09e81"
      },
      "source": [
        "import torch\n",
        "import torch.nn as nn\n",
        "import torch.nn.functional as F\n",
        "from sklearn.metrics import accuracy_score\n",
        "import torch.optim as optim\n",
        "class MAPE(nn.Module):\n",
        "    def __init__(self):\n",
        "        super().__init__()\n",
        "        \n",
        "    def forward(self, x, y):\n",
        "        sub_t = torch.sub(y, x)\n",
        "        re = torch.abs(torch.div(sub_t,y))\n",
        "        \n",
        "       \n",
        "        return torch.mean(re)\n",
        "    \n",
        "class Correlation(nn.Module):\n",
        "    def __init__(self):\n",
        "        super().__init__()\n",
        "        \n",
        "    def forward(self, x, y):\n",
        "        mean_x = torch.mean(x)\n",
        "        mean_y = torch.mean(y)\n",
        "        \n",
        "        sub_x = x-mean_x\n",
        "        sub_y = y-mean_y\n",
        "        \n",
        "        sum_mul = torch.sum(torch.mul(sub_x,sub_y))\n",
        "        \n",
        "        pow_x = sub_x.pow(2)\n",
        "        pow_y = sub_y.pow(2)\n",
        "        \n",
        "        sum_pow = torch.mul(torch.sum(pow_x),torch.sum(pow_y))\n",
        "        sqrt_re = sum_pow.sqrt()\n",
        "        \n",
        "        return sum_mul/sqrt_re\n",
        "\n",
        "class Theil_U(nn.Module):\n",
        "    def __init__(self):\n",
        "        super().__init__()\n",
        "        \n",
        "    def forward(self, x, y):\n",
        "        sub_t = torch.sub(x,y)\n",
        "        mean_error = torch.mean(sub_t.pow(2)).sqrt()\n",
        "        mean_squar_x = torch.mean(x.pow(2)).sqrt()\n",
        "        mean_squar_y = torch.mean(y.pow(2)).sqrt()\n",
        "        re = mean_error/(mean_squar_x+mean_squar_y)\n",
        "       \n",
        "        return re\n",
        "        \n",
        "class LSTM_Attention(nn.Module):\n",
        "\n",
        "    def __init__(self):\n",
        "\n",
        "        super(LSTM_Attention, self).__init__()\n",
        "        self.lstm = nn.LSTM(n_input, n_hidden, batch_first =True, dropout=0.5)\n",
        "        self.linear = nn.Linear(n_hidden, n_class)\n",
        "\n",
        "        self.w_omega = nn.Parameter(torch.Tensor(n_hidden, n_hidden))\n",
        "        self.u_omega = nn.Parameter(torch.Tensor(n_hidden, 1))\n",
        "        \n",
        "        nn.init.uniform_(self.w_omega, -0.1, 0.1)\n",
        "        nn.init.uniform_(self.u_omega, -0.1, 0.1)\n",
        "\n",
        "    def attention_net(self,x):\n",
        "      u = torch.tanh(torch.matmul(x, self.w_omega))  \n",
        "      att = torch.matmul(u, self.u_omega)\n",
        "      att_score = F.softmax(att, dim=1) \n",
        "      scored_x = x * att_score\n",
        "      context = torch.sum(scored_x, dim=1)\n",
        "      return context\n",
        "\n",
        "    def forward(self, x):\n",
        "        #h_n of shape (num_layers * num_directions, batch, hidden_size): tensor containing the hidden state for t = seq_len.\n",
        "        lstm_out, (h_n,c_n) = self.lstm(x)\n",
        "        \n",
        "        attn_output = self.attention_net(lstm_out) \n",
        "        z = self.linear(attn_output)\n",
        "        return z.view(-1)\n",
        "    \n",
        "    # Loss function and optimizer\n",
        "net_lstm = LSTM_Attention()\n",
        "criterion = nn.MSELoss()\n",
        "optimizer = optim.Adam(net_lstm.parameters(), lr=learning_rate)\n"
      ],
      "execution_count": 18,
      "outputs": [
        {
          "output_type": "stream",
          "text": [
            "/usr/local/lib/python3.6/dist-packages/torch/nn/modules/rnn.py:61: UserWarning: dropout option adds dropout after all but last recurrent layer, so non-zero dropout expects num_layers greater than 1, but got dropout=0.5 and num_layers=1\n",
            "  \"num_layers={}\".format(dropout, num_layers))\n"
          ],
          "name": "stderr"
        }
      ]
    },
    {
      "cell_type": "code",
      "metadata": {
        "colab": {
          "background_save": true,
          "base_uri": "https://localhost:8080/"
        },
        "id": "e_EDcVzhJ98t",
        "outputId": "7d0543e3-6bd1-4d7b-9837-e451d722b0b9"
      },
      "source": [
        "loss_list_train = []\n",
        "loss_list_test = []\n",
        "\n",
        "mape_list_train =[]\n",
        "mape_list_test =[]\n",
        "\n",
        "correlation_list_train = []\n",
        "correlation_list_test = []\n",
        "\n",
        "Theil_U_list_train =[]\n",
        "Theil_U_list_test =[]\n",
        "\n",
        "mape = MAPE()\n",
        "cor = Correlation()\n",
        "Theil = Theil_U()\n",
        "for epoch in range(total_epoch):  \n",
        "    \n",
        "    # Set the flag to training\n",
        "    net_lstm.train()\n",
        "    \n",
        "    # forward + backward + optimize\n",
        "    outputs= net_lstm(input_batch_torch) \n",
        "    loss = criterion(outputs, target_batch_torch).sqrt()\n",
        "    loss.backward()\n",
        "    optimizer.step()\n",
        "    optimizer.zero_grad()\n",
        "\n",
        "    # Set the flag to evaluation, which will 'turn off' the dropout\n",
        "    net_lstm.eval()\n",
        "    output_train = net_lstm(input_batch_torch) \n",
        "    output_test = net_lstm(val_input)\n",
        "    \n",
        "    # Evaluation loss and accuracy calculation\n",
        "    loss_train = criterion(output_train, target_batch_torch).sqrt()\n",
        "    loss_test = criterion(output_test,val_target).sqrt()\n",
        "    loss_list_train.append(loss_train.item())\n",
        "    loss_list_test.append(loss_test.item())\n",
        "\n",
        "    loss_mape_train =mape(output_train, target_batch_torch)\n",
        "    loss_mape_test =mape(output_test,val_target)\n",
        "    mape_list_train.append(loss_mape_train.item())\n",
        "    mape_list_test.append(loss_mape_test.item())\n",
        "\n",
        "    loss_cor_train = cor(output_train, target_batch_torch)\n",
        "    loss_cor_test = cor(output_test,val_target)\n",
        "    correlation_list_train.append(loss_cor_train.item())\n",
        "    correlation_list_test.append(loss_cor_test.item())\n",
        "\n",
        "    loss_theil_train = Theil(output_train, target_batch_torch) \n",
        "    loss_theil_test = Theil(output_test,val_target)\n",
        "    Theil_U_list_train.append(loss_theil_train.item())\n",
        "    Theil_U_list_test.append(loss_theil_test.item())\n",
        "    \n",
        "    #acc= accuracy_score(predicted.cpu().numpy(),target_batch_torch.cpu().numpy())\n",
        "\n",
        "    print('Epoch: %d, loss: %.5f' %(epoch + 1, loss_train.item()))\n",
        "\n",
        "print('Finished Training')\n"
      ],
      "execution_count": null,
      "outputs": [
        {
          "output_type": "stream",
          "text": [
            "Epoch: 1, loss: 1.21940\n",
            "Epoch: 2, loss: 1.16291\n",
            "Epoch: 3, loss: 1.10494\n",
            "Epoch: 4, loss: 1.04233\n",
            "Epoch: 5, loss: 0.97188\n",
            "Epoch: 6, loss: 0.89060\n",
            "Epoch: 7, loss: 0.79671\n",
            "Epoch: 8, loss: 0.69193\n",
            "Epoch: 9, loss: 0.58606\n",
            "Epoch: 10, loss: 0.50061\n",
            "Epoch: 11, loss: 0.44203\n",
            "Epoch: 12, loss: 0.36895\n",
            "Epoch: 13, loss: 0.28894\n",
            "Epoch: 14, loss: 0.22992\n",
            "Epoch: 15, loss: 0.17149\n",
            "Epoch: 16, loss: 0.14979\n",
            "Epoch: 17, loss: 0.17902\n",
            "Epoch: 18, loss: 0.19974\n",
            "Epoch: 19, loss: 0.19499\n",
            "Epoch: 20, loss: 0.16677\n",
            "Epoch: 21, loss: 0.11948\n",
            "Epoch: 22, loss: 0.06237\n",
            "Epoch: 23, loss: 0.05889\n",
            "Epoch: 24, loss: 0.09902\n",
            "Epoch: 25, loss: 0.11315\n",
            "Epoch: 26, loss: 0.09972\n",
            "Epoch: 27, loss: 0.06644\n",
            "Epoch: 28, loss: 0.03481\n",
            "Epoch: 29, loss: 0.04879\n",
            "Epoch: 30, loss: 0.06343\n",
            "Epoch: 31, loss: 0.06281\n",
            "Epoch: 32, loss: 0.05312\n",
            "Epoch: 33, loss: 0.04568\n",
            "Epoch: 34, loss: 0.04213\n",
            "Epoch: 35, loss: 0.03261\n",
            "Epoch: 36, loss: 0.02449\n",
            "Epoch: 37, loss: 0.03673\n",
            "Epoch: 38, loss: 0.04239\n",
            "Epoch: 39, loss: 0.03310\n",
            "Epoch: 40, loss: 0.01364\n",
            "Epoch: 41, loss: 0.02718\n",
            "Epoch: 42, loss: 0.03539\n",
            "Epoch: 43, loss: 0.02942\n",
            "Epoch: 44, loss: 0.02284\n",
            "Epoch: 45, loss: 0.02201\n",
            "Epoch: 46, loss: 0.01761\n",
            "Epoch: 47, loss: 0.02269\n",
            "Epoch: 48, loss: 0.02527\n",
            "Epoch: 49, loss: 0.01411\n",
            "Epoch: 50, loss: 0.01552\n",
            "Epoch: 51, loss: 0.02084\n",
            "Epoch: 52, loss: 0.01568\n",
            "Epoch: 53, loss: 0.01518\n",
            "Epoch: 54, loss: 0.01180\n",
            "Epoch: 55, loss: 0.01610\n",
            "Epoch: 56, loss: 0.01788\n",
            "Epoch: 57, loss: 0.00813\n",
            "Epoch: 58, loss: 0.01597\n",
            "Epoch: 59, loss: 0.01581\n",
            "Epoch: 60, loss: 0.01272\n",
            "Epoch: 61, loss: 0.01149\n",
            "Epoch: 62, loss: 0.01083\n",
            "Epoch: 63, loss: 0.01332\n",
            "Epoch: 64, loss: 0.00628\n",
            "Epoch: 65, loss: 0.01046\n",
            "Epoch: 66, loss: 0.01044\n",
            "Epoch: 67, loss: 0.00817\n",
            "Epoch: 68, loss: 0.00906\n",
            "Epoch: 69, loss: 0.00968\n",
            "Epoch: 70, loss: 0.00743\n",
            "Epoch: 71, loss: 0.00774\n",
            "Epoch: 72, loss: 0.00820\n",
            "Epoch: 73, loss: 0.00618\n",
            "Epoch: 74, loss: 0.00785\n",
            "Epoch: 75, loss: 0.00592\n",
            "Epoch: 76, loss: 0.00751\n",
            "Epoch: 77, loss: 0.00786\n",
            "Epoch: 78, loss: 0.00481\n",
            "Epoch: 79, loss: 0.00951\n",
            "Epoch: 80, loss: 0.00682\n",
            "Epoch: 81, loss: 0.00682\n",
            "Epoch: 82, loss: 0.00982\n",
            "Epoch: 83, loss: 0.00607\n",
            "Epoch: 84, loss: 0.01134\n",
            "Epoch: 85, loss: 0.00875\n",
            "Epoch: 86, loss: 0.01127\n",
            "Epoch: 87, loss: 0.00599\n",
            "Epoch: 88, loss: 0.01368\n",
            "Epoch: 89, loss: 0.00768\n",
            "Epoch: 90, loss: 0.01737\n",
            "Epoch: 91, loss: 0.01782\n",
            "Epoch: 92, loss: 0.00651\n",
            "Epoch: 93, loss: 0.01183\n",
            "Epoch: 94, loss: 0.00738\n",
            "Epoch: 95, loss: 0.00976\n",
            "Epoch: 96, loss: 0.00638\n",
            "Epoch: 97, loss: 0.00618\n",
            "Epoch: 98, loss: 0.00899\n",
            "Epoch: 99, loss: 0.00618\n",
            "Epoch: 100, loss: 0.00741\n",
            "Epoch: 101, loss: 0.00840\n",
            "Epoch: 102, loss: 0.00557\n",
            "Epoch: 103, loss: 0.01039\n",
            "Epoch: 104, loss: 0.00728\n",
            "Epoch: 105, loss: 0.01003\n",
            "Epoch: 106, loss: 0.00588\n",
            "Epoch: 107, loss: 0.00817\n",
            "Epoch: 108, loss: 0.00664\n",
            "Epoch: 109, loss: 0.00500\n",
            "Epoch: 110, loss: 0.00582\n",
            "Epoch: 111, loss: 0.00871\n",
            "Epoch: 112, loss: 0.00402\n",
            "Epoch: 113, loss: 0.00867\n",
            "Epoch: 114, loss: 0.00660\n",
            "Epoch: 115, loss: 0.00444\n",
            "Epoch: 116, loss: 0.01028\n",
            "Epoch: 117, loss: 0.00467\n",
            "Epoch: 118, loss: 0.01167\n",
            "Epoch: 119, loss: 0.00758\n",
            "Epoch: 120, loss: 0.01159\n",
            "Epoch: 121, loss: 0.00653\n",
            "Epoch: 122, loss: 0.01451\n",
            "Epoch: 123, loss: 0.00948\n",
            "Epoch: 124, loss: 0.01549\n",
            "Epoch: 125, loss: 0.01725\n",
            "Epoch: 126, loss: 0.00460\n",
            "Epoch: 127, loss: 0.01268\n",
            "Epoch: 128, loss: 0.00779\n",
            "Epoch: 129, loss: 0.01237\n",
            "Epoch: 130, loss: 0.00738\n",
            "Epoch: 131, loss: 0.01577\n",
            "Epoch: 132, loss: 0.01355\n",
            "Epoch: 133, loss: 0.00916\n",
            "Epoch: 134, loss: 0.01032\n",
            "Epoch: 135, loss: 0.00863\n",
            "Epoch: 136, loss: 0.00619\n",
            "Epoch: 137, loss: 0.01404\n",
            "Epoch: 138, loss: 0.01149\n",
            "Epoch: 139, loss: 0.01077\n",
            "Epoch: 140, loss: 0.01090\n",
            "Epoch: 141, loss: 0.00917\n",
            "Epoch: 142, loss: 0.00794\n",
            "Epoch: 143, loss: 0.01224\n",
            "Epoch: 144, loss: 0.01029\n",
            "Epoch: 145, loss: 0.01116\n",
            "Epoch: 146, loss: 0.01096\n",
            "Epoch: 147, loss: 0.00889\n",
            "Epoch: 148, loss: 0.00771\n",
            "Epoch: 149, loss: 0.01210\n",
            "Epoch: 150, loss: 0.01049\n",
            "Epoch: 151, loss: 0.01026\n",
            "Epoch: 152, loss: 0.00964\n",
            "Epoch: 153, loss: 0.01022\n",
            "Epoch: 154, loss: 0.00912\n",
            "Epoch: 155, loss: 0.01072\n",
            "Epoch: 156, loss: 0.00940\n",
            "Epoch: 157, loss: 0.01080\n",
            "Epoch: 158, loss: 0.01004\n",
            "Epoch: 159, loss: 0.00958\n",
            "Epoch: 160, loss: 0.00848\n",
            "Epoch: 161, loss: 0.01109\n",
            "Epoch: 162, loss: 0.00991\n",
            "Epoch: 163, loss: 0.00988\n",
            "Epoch: 164, loss: 0.00898\n",
            "Epoch: 165, loss: 0.01045\n",
            "Epoch: 166, loss: 0.00940\n",
            "Epoch: 167, loss: 0.01003\n",
            "Epoch: 168, loss: 0.00893\n",
            "Epoch: 169, loss: 0.01051\n",
            "Epoch: 170, loss: 0.00959\n",
            "Epoch: 171, loss: 0.00966\n",
            "Epoch: 172, loss: 0.00861\n",
            "Epoch: 173, loss: 0.01056\n",
            "Epoch: 174, loss: 0.00952\n",
            "Epoch: 175, loss: 0.00967\n",
            "Epoch: 176, loss: 0.00870\n",
            "Epoch: 177, loss: 0.01033\n",
            "Epoch: 178, loss: 0.00932\n",
            "Epoch: 179, loss: 0.00968\n",
            "Epoch: 180, loss: 0.00866\n",
            "Epoch: 181, loss: 0.01028\n",
            "Epoch: 182, loss: 0.00931\n",
            "Epoch: 183, loss: 0.00954\n",
            "Epoch: 184, loss: 0.00853\n",
            "Epoch: 185, loss: 0.01025\n",
            "Epoch: 186, loss: 0.00926\n",
            "Epoch: 187, loss: 0.00950\n",
            "Epoch: 188, loss: 0.00852\n",
            "Epoch: 189, loss: 0.01013\n",
            "Epoch: 190, loss: 0.00915\n",
            "Epoch: 191, loss: 0.00947\n",
            "Epoch: 192, loss: 0.00848\n",
            "Epoch: 193, loss: 0.01007\n",
            "Epoch: 194, loss: 0.00911\n",
            "Epoch: 195, loss: 0.00939\n",
            "Epoch: 196, loss: 0.00841\n",
            "Epoch: 197, loss: 0.01002\n",
            "Epoch: 198, loss: 0.00906\n",
            "Epoch: 199, loss: 0.00934\n",
            "Epoch: 200, loss: 0.00837\n",
            "Epoch: 201, loss: 0.00994\n",
            "Epoch: 202, loss: 0.00898\n",
            "Epoch: 203, loss: 0.00931\n",
            "Epoch: 204, loss: 0.00834\n",
            "Epoch: 205, loss: 0.00988\n",
            "Epoch: 206, loss: 0.00894\n",
            "Epoch: 207, loss: 0.00925\n",
            "Epoch: 208, loss: 0.00828\n",
            "Epoch: 209, loss: 0.00984\n",
            "Epoch: 210, loss: 0.00889\n",
            "Epoch: 211, loss: 0.00921\n",
            "Epoch: 212, loss: 0.00825\n",
            "Epoch: 213, loss: 0.00977\n",
            "Epoch: 214, loss: 0.00883\n",
            "Epoch: 215, loss: 0.00918\n",
            "Epoch: 216, loss: 0.00822\n",
            "Epoch: 217, loss: 0.00972\n",
            "Epoch: 218, loss: 0.00879\n",
            "Epoch: 219, loss: 0.00912\n",
            "Epoch: 220, loss: 0.00817\n",
            "Epoch: 221, loss: 0.00968\n",
            "Epoch: 222, loss: 0.00875\n",
            "Epoch: 223, loss: 0.00908\n",
            "Epoch: 224, loss: 0.00814\n",
            "Epoch: 225, loss: 0.00962\n",
            "Epoch: 226, loss: 0.00869\n",
            "Epoch: 227, loss: 0.00905\n",
            "Epoch: 228, loss: 0.00811\n",
            "Epoch: 229, loss: 0.00957\n",
            "Epoch: 230, loss: 0.00866\n",
            "Epoch: 231, loss: 0.00901\n",
            "Epoch: 232, loss: 0.00807\n",
            "Epoch: 233, loss: 0.00954\n",
            "Epoch: 234, loss: 0.00862\n",
            "Epoch: 235, loss: 0.00897\n",
            "Epoch: 236, loss: 0.00804\n",
            "Epoch: 237, loss: 0.00948\n",
            "Epoch: 238, loss: 0.00857\n",
            "Epoch: 239, loss: 0.00894\n",
            "Epoch: 240, loss: 0.00801\n",
            "Epoch: 241, loss: 0.00944\n",
            "Epoch: 242, loss: 0.00853\n",
            "Epoch: 243, loss: 0.00890\n",
            "Epoch: 244, loss: 0.00798\n",
            "Epoch: 245, loss: 0.00941\n",
            "Epoch: 246, loss: 0.00850\n",
            "Epoch: 247, loss: 0.00887\n",
            "Epoch: 248, loss: 0.00795\n",
            "Epoch: 249, loss: 0.00936\n",
            "Epoch: 250, loss: 0.00846\n",
            "Epoch: 251, loss: 0.00884\n",
            "Epoch: 252, loss: 0.00792\n",
            "Epoch: 253, loss: 0.00932\n",
            "Epoch: 254, loss: 0.00842\n",
            "Epoch: 255, loss: 0.00881\n",
            "Epoch: 256, loss: 0.00789\n",
            "Epoch: 257, loss: 0.00929\n",
            "Epoch: 258, loss: 0.00839\n",
            "Epoch: 259, loss: 0.00878\n",
            "Epoch: 260, loss: 0.00787\n",
            "Epoch: 261, loss: 0.00925\n",
            "Epoch: 262, loss: 0.00836\n",
            "Epoch: 263, loss: 0.00875\n",
            "Epoch: 264, loss: 0.00784\n",
            "Epoch: 265, loss: 0.00921\n",
            "Epoch: 266, loss: 0.00832\n",
            "Epoch: 267, loss: 0.00872\n",
            "Epoch: 268, loss: 0.00781\n",
            "Epoch: 269, loss: 0.00918\n",
            "Epoch: 270, loss: 0.00829\n",
            "Epoch: 271, loss: 0.00869\n",
            "Epoch: 272, loss: 0.00779\n",
            "Epoch: 273, loss: 0.00914\n",
            "Epoch: 274, loss: 0.00826\n",
            "Epoch: 275, loss: 0.00866\n",
            "Epoch: 276, loss: 0.00776\n",
            "Epoch: 277, loss: 0.00911\n",
            "Epoch: 278, loss: 0.00823\n",
            "Epoch: 279, loss: 0.00863\n",
            "Epoch: 280, loss: 0.00774\n",
            "Epoch: 281, loss: 0.00908\n",
            "Epoch: 282, loss: 0.00820\n",
            "Epoch: 283, loss: 0.00861\n",
            "Epoch: 284, loss: 0.00772\n",
            "Epoch: 285, loss: 0.00905\n",
            "Epoch: 286, loss: 0.00817\n",
            "Epoch: 287, loss: 0.00858\n",
            "Epoch: 288, loss: 0.00769\n",
            "Epoch: 289, loss: 0.00902\n",
            "Epoch: 290, loss: 0.00814\n",
            "Epoch: 291, loss: 0.00856\n",
            "Epoch: 292, loss: 0.00767\n",
            "Epoch: 293, loss: 0.00899\n",
            "Epoch: 294, loss: 0.00812\n",
            "Epoch: 295, loss: 0.00853\n",
            "Epoch: 296, loss: 0.00765\n",
            "Epoch: 297, loss: 0.00896\n",
            "Epoch: 298, loss: 0.00809\n",
            "Epoch: 299, loss: 0.00851\n",
            "Epoch: 300, loss: 0.00763\n",
            "Epoch: 301, loss: 0.00893\n",
            "Epoch: 302, loss: 0.00806\n",
            "Epoch: 303, loss: 0.00848\n",
            "Epoch: 304, loss: 0.00761\n",
            "Epoch: 305, loss: 0.00890\n",
            "Epoch: 306, loss: 0.00804\n",
            "Epoch: 307, loss: 0.00846\n",
            "Epoch: 308, loss: 0.00759\n",
            "Epoch: 309, loss: 0.00887\n",
            "Epoch: 310, loss: 0.00801\n",
            "Epoch: 311, loss: 0.00844\n",
            "Epoch: 312, loss: 0.00756\n",
            "Epoch: 313, loss: 0.00884\n",
            "Epoch: 314, loss: 0.00799\n",
            "Epoch: 315, loss: 0.00842\n",
            "Epoch: 316, loss: 0.00754\n",
            "Epoch: 317, loss: 0.00882\n",
            "Epoch: 318, loss: 0.00796\n",
            "Epoch: 319, loss: 0.00839\n",
            "Epoch: 320, loss: 0.00753\n",
            "Epoch: 321, loss: 0.00879\n",
            "Epoch: 322, loss: 0.00794\n",
            "Epoch: 323, loss: 0.00837\n",
            "Epoch: 324, loss: 0.00751\n",
            "Epoch: 325, loss: 0.00877\n",
            "Epoch: 326, loss: 0.00792\n",
            "Epoch: 327, loss: 0.00835\n",
            "Epoch: 328, loss: 0.00749\n",
            "Epoch: 329, loss: 0.00874\n",
            "Epoch: 330, loss: 0.00789\n",
            "Epoch: 331, loss: 0.00833\n",
            "Epoch: 332, loss: 0.00747\n",
            "Epoch: 333, loss: 0.00872\n",
            "Epoch: 334, loss: 0.00787\n",
            "Epoch: 335, loss: 0.00831\n",
            "Epoch: 336, loss: 0.00745\n",
            "Epoch: 337, loss: 0.00869\n",
            "Epoch: 338, loss: 0.00785\n",
            "Epoch: 339, loss: 0.00829\n",
            "Epoch: 340, loss: 0.00743\n",
            "Epoch: 341, loss: 0.00867\n",
            "Epoch: 342, loss: 0.00783\n",
            "Epoch: 343, loss: 0.00827\n",
            "Epoch: 344, loss: 0.00741\n",
            "Epoch: 345, loss: 0.00864\n",
            "Epoch: 346, loss: 0.00781\n",
            "Epoch: 347, loss: 0.00825\n",
            "Epoch: 348, loss: 0.00740\n",
            "Epoch: 349, loss: 0.00862\n",
            "Epoch: 350, loss: 0.00779\n",
            "Epoch: 351, loss: 0.00823\n",
            "Epoch: 352, loss: 0.00738\n",
            "Epoch: 353, loss: 0.00860\n",
            "Epoch: 354, loss: 0.00776\n",
            "Epoch: 355, loss: 0.00821\n",
            "Epoch: 356, loss: 0.00736\n",
            "Epoch: 357, loss: 0.00858\n",
            "Epoch: 358, loss: 0.00774\n",
            "Epoch: 359, loss: 0.00819\n",
            "Epoch: 360, loss: 0.00735\n",
            "Epoch: 361, loss: 0.00855\n",
            "Epoch: 362, loss: 0.00772\n",
            "Epoch: 363, loss: 0.00817\n",
            "Epoch: 364, loss: 0.00733\n",
            "Epoch: 365, loss: 0.00853\n",
            "Epoch: 366, loss: 0.00770\n",
            "Epoch: 367, loss: 0.00816\n",
            "Epoch: 368, loss: 0.00731\n",
            "Epoch: 369, loss: 0.00851\n",
            "Epoch: 370, loss: 0.00769\n",
            "Epoch: 371, loss: 0.00814\n",
            "Epoch: 372, loss: 0.00730\n",
            "Epoch: 373, loss: 0.00849\n",
            "Epoch: 374, loss: 0.00767\n",
            "Epoch: 375, loss: 0.00812\n",
            "Epoch: 376, loss: 0.00728\n",
            "Epoch: 377, loss: 0.00847\n",
            "Epoch: 378, loss: 0.00765\n",
            "Epoch: 379, loss: 0.00810\n",
            "Epoch: 380, loss: 0.00727\n",
            "Epoch: 381, loss: 0.00845\n",
            "Epoch: 382, loss: 0.00763\n",
            "Epoch: 383, loss: 0.00809\n",
            "Epoch: 384, loss: 0.00725\n",
            "Epoch: 385, loss: 0.00843\n",
            "Epoch: 386, loss: 0.00761\n",
            "Epoch: 387, loss: 0.00807\n",
            "Epoch: 388, loss: 0.00724\n",
            "Epoch: 389, loss: 0.00841\n",
            "Epoch: 390, loss: 0.00759\n",
            "Epoch: 391, loss: 0.00805\n",
            "Epoch: 392, loss: 0.00722\n",
            "Epoch: 393, loss: 0.00839\n",
            "Epoch: 394, loss: 0.00758\n",
            "Epoch: 395, loss: 0.00804\n",
            "Epoch: 396, loss: 0.00721\n",
            "Epoch: 397, loss: 0.00837\n",
            "Epoch: 398, loss: 0.00756\n",
            "Epoch: 399, loss: 0.00802\n",
            "Epoch: 400, loss: 0.00719\n",
            "Epoch: 401, loss: 0.00835\n",
            "Epoch: 402, loss: 0.00754\n",
            "Epoch: 403, loss: 0.00800\n",
            "Epoch: 404, loss: 0.00718\n",
            "Epoch: 405, loss: 0.00833\n",
            "Epoch: 406, loss: 0.00752\n",
            "Epoch: 407, loss: 0.00799\n",
            "Epoch: 408, loss: 0.00716\n",
            "Epoch: 409, loss: 0.00832\n",
            "Epoch: 410, loss: 0.00751\n",
            "Epoch: 411, loss: 0.00797\n",
            "Epoch: 412, loss: 0.00715\n",
            "Epoch: 413, loss: 0.00830\n",
            "Epoch: 414, loss: 0.00749\n",
            "Epoch: 415, loss: 0.00796\n",
            "Epoch: 416, loss: 0.00714\n",
            "Epoch: 417, loss: 0.00828\n",
            "Epoch: 418, loss: 0.00747\n",
            "Epoch: 419, loss: 0.00794\n",
            "Epoch: 420, loss: 0.00712\n",
            "Epoch: 421, loss: 0.00826\n",
            "Epoch: 422, loss: 0.00746\n",
            "Epoch: 423, loss: 0.00793\n",
            "Epoch: 424, loss: 0.00711\n",
            "Epoch: 425, loss: 0.00824\n",
            "Epoch: 426, loss: 0.00744\n",
            "Epoch: 427, loss: 0.00791\n",
            "Epoch: 428, loss: 0.00710\n",
            "Epoch: 429, loss: 0.00823\n",
            "Epoch: 430, loss: 0.00743\n",
            "Epoch: 431, loss: 0.00790\n",
            "Epoch: 432, loss: 0.00708\n",
            "Epoch: 433, loss: 0.00821\n",
            "Epoch: 434, loss: 0.00741\n",
            "Epoch: 435, loss: 0.00788\n",
            "Epoch: 436, loss: 0.00707\n",
            "Epoch: 437, loss: 0.00819\n",
            "Epoch: 438, loss: 0.00740\n",
            "Epoch: 439, loss: 0.00787\n",
            "Epoch: 440, loss: 0.00706\n",
            "Epoch: 441, loss: 0.00818\n",
            "Epoch: 442, loss: 0.00738\n",
            "Epoch: 443, loss: 0.00785\n",
            "Epoch: 444, loss: 0.00705\n",
            "Epoch: 445, loss: 0.00816\n",
            "Epoch: 446, loss: 0.00737\n",
            "Epoch: 447, loss: 0.00784\n",
            "Epoch: 448, loss: 0.00703\n",
            "Epoch: 449, loss: 0.00814\n",
            "Epoch: 450, loss: 0.00735\n",
            "Epoch: 451, loss: 0.00783\n",
            "Epoch: 452, loss: 0.00702\n",
            "Epoch: 453, loss: 0.00813\n",
            "Epoch: 454, loss: 0.00734\n",
            "Epoch: 455, loss: 0.00781\n",
            "Epoch: 456, loss: 0.00701\n",
            "Epoch: 457, loss: 0.00811\n",
            "Epoch: 458, loss: 0.00732\n",
            "Epoch: 459, loss: 0.00780\n",
            "Epoch: 460, loss: 0.00700\n",
            "Epoch: 461, loss: 0.00810\n",
            "Epoch: 462, loss: 0.00731\n",
            "Epoch: 463, loss: 0.00779\n",
            "Epoch: 464, loss: 0.00698\n",
            "Epoch: 465, loss: 0.00808\n",
            "Epoch: 466, loss: 0.00729\n",
            "Epoch: 467, loss: 0.00777\n",
            "Epoch: 468, loss: 0.00697\n",
            "Epoch: 469, loss: 0.00807\n",
            "Epoch: 470, loss: 0.00728\n",
            "Epoch: 471, loss: 0.00776\n",
            "Epoch: 472, loss: 0.00696\n",
            "Epoch: 473, loss: 0.00805\n",
            "Epoch: 474, loss: 0.00727\n",
            "Epoch: 475, loss: 0.00775\n",
            "Epoch: 476, loss: 0.00695\n",
            "Epoch: 477, loss: 0.00804\n",
            "Epoch: 478, loss: 0.00725\n",
            "Epoch: 479, loss: 0.00773\n",
            "Epoch: 480, loss: 0.00694\n",
            "Epoch: 481, loss: 0.00802\n",
            "Epoch: 482, loss: 0.00724\n",
            "Epoch: 483, loss: 0.00772\n",
            "Epoch: 484, loss: 0.00693\n",
            "Epoch: 485, loss: 0.00801\n",
            "Epoch: 486, loss: 0.00723\n",
            "Epoch: 487, loss: 0.00771\n",
            "Epoch: 488, loss: 0.00692\n",
            "Epoch: 489, loss: 0.00799\n",
            "Epoch: 490, loss: 0.00721\n",
            "Epoch: 491, loss: 0.00770\n",
            "Epoch: 492, loss: 0.00690\n",
            "Epoch: 493, loss: 0.00798\n",
            "Epoch: 494, loss: 0.00720\n",
            "Epoch: 495, loss: 0.00768\n",
            "Epoch: 496, loss: 0.00689\n",
            "Epoch: 497, loss: 0.00796\n",
            "Epoch: 498, loss: 0.00719\n",
            "Epoch: 499, loss: 0.00767\n",
            "Epoch: 500, loss: 0.00688\n",
            "Finished Training\n"
          ],
          "name": "stdout"
        }
      ]
    },
    {
      "cell_type": "code",
      "metadata": {
        "colab": {
          "base_uri": "https://localhost:8080/",
          "height": 185
        },
        "id": "ia2P4R4d1Hn_",
        "outputId": "6b46d29d-e748-49b7-ede0-17d9b66582e3"
      },
      "source": [
        "train_after_train=net_lstm(input_batch_torch).detach().numpy()\n",
        "test_after_train =net_lstm(val_input).detach().numpy()"
      ],
      "execution_count": 16,
      "outputs": [
        {
          "output_type": "error",
          "ename": "NameError",
          "evalue": "ignored",
          "traceback": [
            "\u001b[0;31m---------------------------------------------------------------------------\u001b[0m",
            "\u001b[0;31mNameError\u001b[0m                                 Traceback (most recent call last)",
            "\u001b[0;32m<ipython-input-16-9eaf593355c4>\u001b[0m in \u001b[0;36m<module>\u001b[0;34m()\u001b[0m\n\u001b[0;32m----> 1\u001b[0;31m \u001b[0mtrain_after_train\u001b[0m\u001b[0;34m=\u001b[0m\u001b[0mnet_lstm\u001b[0m\u001b[0;34m(\u001b[0m\u001b[0minput_batch_torch\u001b[0m\u001b[0;34m)\u001b[0m\u001b[0;34m.\u001b[0m\u001b[0mdetach\u001b[0m\u001b[0;34m(\u001b[0m\u001b[0;34m)\u001b[0m\u001b[0;34m.\u001b[0m\u001b[0mnumpy\u001b[0m\u001b[0;34m(\u001b[0m\u001b[0;34m)\u001b[0m\u001b[0;34m\u001b[0m\u001b[0;34m\u001b[0m\u001b[0m\n\u001b[0m\u001b[1;32m      2\u001b[0m \u001b[0mtest_after_train\u001b[0m \u001b[0;34m=\u001b[0m\u001b[0mnet_lstm\u001b[0m\u001b[0;34m(\u001b[0m\u001b[0mval_input\u001b[0m\u001b[0;34m)\u001b[0m\u001b[0;34m.\u001b[0m\u001b[0mdetach\u001b[0m\u001b[0;34m(\u001b[0m\u001b[0;34m)\u001b[0m\u001b[0;34m.\u001b[0m\u001b[0mnumpy\u001b[0m\u001b[0;34m(\u001b[0m\u001b[0;34m)\u001b[0m\u001b[0;34m\u001b[0m\u001b[0;34m\u001b[0m\u001b[0m\n",
            "\u001b[0;31mNameError\u001b[0m: name 'net_lstm' is not defined"
          ]
        }
      ]
    },
    {
      "cell_type": "code",
      "metadata": {
        "id": "iEPGoJj7GUVM"
      },
      "source": [
        "import torch\n",
        "import torch.nn as nn\n",
        "import torch.nn.functional as F\n",
        "import torch.optim as optim\n",
        "net = torch.load('lstm+attention.pt')\n",
        "output_test = net(val_input)\n",
        "    \n"
      ],
      "execution_count": 19,
      "outputs": []
    },
    {
      "cell_type": "code",
      "metadata": {
        "colab": {
          "base_uri": "https://localhost:8080/"
        },
        "id": "lFQUlwKnrE84",
        "outputId": "1d8e5cf5-8767-420f-d568-80d5615013e2"
      },
      "source": [
        "from sklearn.metrics import mean_squared_error\n",
        "output_test = output_test.detach().numpy()\n",
        "val_target = val_target.numpy()\n",
        "rmse = mean_squared_error(output_test,val_target)**(0.5)\n",
        "rmse"
      ],
      "execution_count": 20,
      "outputs": [
        {
          "output_type": "execute_result",
          "data": {
            "text/plain": [
              "0.006757105777199007"
            ]
          },
          "metadata": {
            "tags": []
          },
          "execution_count": 20
        }
      ]
    },
    {
      "cell_type": "code",
      "metadata": {
        "colab": {
          "background_save": true
        },
        "id": "qEXBDkr205IX",
        "outputId": "3c526c2d-dfeb-4007-8991-433a51e05a29"
      },
      "source": [
        "import matplotlib.pyplot as plt\n",
        "plt.figure(figsize=(15,5))\n",
        "plt.plot(label_emb_list_val,'blue',label='True')\n",
        "plt.plot(test_after_train,'red',label='Prediction')\n",
        "plt.legend()\n",
        "plt.show()"
      ],
      "execution_count": null,
      "outputs": [
        {
          "output_type": "display_data",
          "data": {
            "image/png": "[encoded data removed]",
            "text/plain": [
              "<Figure size 1080x360 with 1 Axes>"
            ]
          },
          "metadata": {
            "tags": []
          }
        }
      ]
    },
    {
      "cell_type": "code",
      "metadata": {
        "colab": {
          "background_save": true
        },
        "id": "HtV6G0gRAbkF"
      },
      "source": [
        "# import matplotlib.pyplot as plt\n",
        "# plt.figure(figsize=(15,5))\n",
        "# plt.plot(label_emb_list_val,'blue',label='True')\n",
        "# plt.plot(ot,'red',label='Prediction')\n",
        "# plt.legend()\n",
        "# plt.show()"
      ],
      "execution_count": null,
      "outputs": []
    },
    {
      "cell_type": "code",
      "metadata": {
        "colab": {
          "background_save": true
        },
        "id": "TlHWmbiv6y2-",
        "outputId": "dbf42fa3-122c-4c8c-9935-3f5f467196d2"
      },
      "source": [
        "plt.figure(figsize=(20,5))\n",
        "plt.plot(target_batch_torch,'blue',label='True')\n",
        "plt.plot(train_after_train,'red',label='Prediction')\n",
        "\n",
        "plt.title('USD-JPY',fontsize=  '30')\n",
        "plt.legend(loc=\"upper left\")"
      ],
      "execution_count": null,
      "outputs": [
        {
          "output_type": "execute_result",
          "data": {
            "text/plain": [
              "<matplotlib.legend.Legend at 0x7f76d539d978>"
            ]
          },
          "metadata": {
            "tags": []
          },
          "execution_count": 0
        },
        {
          "output_type": "display_data",
          "data": {
            "image/png": "[encoded data removed]",
            "text/plain": [
              "<Figure size 1440x360 with 1 Axes>"
            ]
          },
          "metadata": {
            "tags": []
          }
        }
      ]
    },
    {
      "cell_type": "code",
      "metadata": {
        "colab": {
          "background_save": true
        },
        "id": "zxod1eYbobqx",
        "outputId": "098bd2e9-c2fa-4f5c-915a-396f4cfb470c"
      },
      "source": [
        "plt.figure(figsize=(20,5))\n",
        "plt.plot(mape_list_train,'blue',label='Train')\n",
        "plt.plot(mape_list_test,'red',label='Test')\n",
        "\n",
        "plt.title('MAPE',fontsize=  '30')\n",
        "plt.legend(loc=\"upper left\")"
      ],
      "execution_count": null,
      "outputs": [
        {
          "output_type": "execute_result",
          "data": {
            "text/plain": [
              "<matplotlib.legend.Legend at 0x7f76dc16db00>"
            ]
          },
          "metadata": {
            "tags": []
          },
          "execution_count": 0
        },
        {
          "output_type": "display_data",
          "data": {
            "image/png": "[encoded data removed]",
            "text/plain": [
              "<Figure size 1440x360 with 1 Axes>"
            ]
          },
          "metadata": {
            "tags": []
          }
        }
      ]
    },
    {
      "cell_type": "code",
      "metadata": {
        "colab": {
          "background_save": true
        },
        "id": "asdwzCiQopsB",
        "outputId": "281e50d8-9038-443a-a6bf-de74ef4df377"
      },
      "source": [
        "plt.figure(figsize=(20,5))\n",
        "plt.plot(correlation_list_train,'blue',label='Train')\n",
        "plt.plot(correlation_list_test,'red',label='Test')\n",
        "\n",
        "plt.title('R',fontsize=  '30')\n",
        "plt.legend(loc=\"upper left\")"
      ],
      "execution_count": null,
      "outputs": [
        {
          "output_type": "execute_result",
          "data": {
            "text/plain": [
              "<matplotlib.legend.Legend at 0x7f76dc439400>"
            ]
          },
          "metadata": {
            "tags": []
          },
          "execution_count": 0
        },
        {
          "output_type": "display_data",
          "data": {
            "image/png": "[encoded data removed]",
            "text/plain": [
              "<Figure size 1440x360 with 1 Axes>"
            ]
          },
          "metadata": {
            "tags": []
          }
        }
      ]
    },
    {
      "cell_type": "code",
      "metadata": {
        "colab": {
          "background_save": true
        },
        "id": "BFbe_wDmo2mi",
        "outputId": "9bad771b-4575-4e70-9d0f-97eb993fc26e"
      },
      "source": [
        "plt.figure(figsize=(20,5))\n",
        "plt.plot(Theil_U_list_train,'blue',label='Train')\n",
        "plt.plot(Theil_U_list_test,'red',label='Test')\n",
        "\n",
        "plt.title('Theil_U',fontsize=  '30')\n",
        "plt.legend(loc=\"upper left\")"
      ],
      "execution_count": null,
      "outputs": [
        {
          "output_type": "execute_result",
          "data": {
            "text/plain": [
              "<matplotlib.legend.Legend at 0x7f76dc4077b8>"
            ]
          },
          "metadata": {
            "tags": []
          },
          "execution_count": 0
        },
        {
          "output_type": "display_data",
          "data": {
            "image/png": "[encoded data removed]",
            "text/plain": [
              "<Figure size 1440x360 with 1 Axes>"
            ]
          },
          "metadata": {
            "tags": []
          }
        }
      ]
    },
    {
      "cell_type": "code",
      "metadata": {
        "colab": {
          "background_save": true
        },
        "id": "BuJZyIuno_Au",
        "outputId": "6d65f35e-7d79-416e-d64d-9981bf4ef112"
      },
      "source": [
        "print('Mape:%.5f, R:%.5f, Theil_U:%.5f'%(mape_list_test[-1],correlation_list_test[-1],Theil_U_list_test[-1]))"
      ],
      "execution_count": null,
      "outputs": [
        {
          "output_type": "stream",
          "text": [
            "Mape:0.00569, R:0.99671, Theil_U:0.00299\n"
          ],
          "name": "stdout"
        }
      ]
    },
    {
      "cell_type": "code",
      "metadata": {
        "colab": {
          "background_save": true
        },
        "id": "kKNmxyXxLVre"
      },
      "source": [
        "torch.save(net_lstm,'lstm+attention.pt')\n",
        "\n"
      ],
      "execution_count": null,
      "outputs": []
    },
    {
      "cell_type": "code",
      "metadata": {
        "colab": {
          "background_save": true
        },
        "id": "AGjZgWfDQ_JF",
        "outputId": "948e400a-264d-49cb-9553-bf17ea96970d"
      },
      "source": [
        "name=['close']\n",
        "test=pd.DataFrame(columns=name,data=test_after_train)\n",
        "print(test)\n",
        "test.to_csv('./backtesting_attention_EUR_USD.csv',encoding='gbk')"
      ],
      "execution_count": null,
      "outputs": [
        {
          "output_type": "stream",
          "text": [
            "         close\n",
            "0     1.185925\n",
            "1     1.187143\n",
            "2     1.186451\n",
            "3     1.186463\n",
            "4     1.183233\n",
            "...        ...\n",
            "3455  1.196234\n",
            "3456  1.196416\n",
            "3457  1.198231\n",
            "3458  1.200407\n",
            "3459  1.203660\n",
            "\n",
            "[3460 rows x 1 columns]\n"
          ],
          "name": "stdout"
        }
      ]
    },
    {
      "cell_type": "code",
      "metadata": {
        "colab": {
          "background_save": true
        },
        "id": "ECjycaQ24HWd",
        "outputId": "6b6f5352-9ff2-46b8-ad34-09380d1c1b0d"
      },
      "source": [
        "print(mape_list_test.index(min(mape_list_test)))\n",
        "print(Theil_U_list_test.index(min(Theil_U_list_test)))\n",
        "print(correlation_list_test.index(max(correlation_list_test)))"
      ],
      "execution_count": null,
      "outputs": [
        {
          "output_type": "stream",
          "text": [
            "129\n",
            "129\n",
            "498\n"
          ],
          "name": "stdout"
        }
      ]
    }
  ]
}